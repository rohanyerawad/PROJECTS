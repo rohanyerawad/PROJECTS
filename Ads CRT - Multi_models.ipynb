{
 "cells": [
  {
   "cell_type": "markdown",
   "id": "7eb412f3",
   "metadata": {},
   "source": [
    "# Click Through Rate Prediction Model"
   ]
  },
  {
   "cell_type": "markdown",
   "id": "b905c91a",
   "metadata": {},
   "source": [
    "libraries"
   ]
  },
  {
   "cell_type": "code",
   "execution_count": 208,
   "id": "622e7961",
   "metadata": {},
   "outputs": [],
   "source": [
    "import pandas as pd\n",
    "import numpy as np\n",
    "import matplotlib.pyplot as plt\n",
    "import seaborn as sns\n",
    "from sklearn.model_selection import train_test_split\n",
    "import warnings\n",
    "warnings.simplefilter('ignore')"
   ]
  },
  {
   "cell_type": "code",
   "execution_count": 209,
   "id": "dc8cbc89",
   "metadata": {},
   "outputs": [],
   "source": [
    "data = pd.read_csv(r'C:\\Users\\hp\\Downloads\\ctr\\ctr\\ad_10000records.csv')"
   ]
  },
  {
   "cell_type": "code",
   "execution_count": 210,
   "id": "07a8f44f",
   "metadata": {},
   "outputs": [
    {
     "data": {
      "text/html": [
       "<div>\n",
       "<style scoped>\n",
       "    .dataframe tbody tr th:only-of-type {\n",
       "        vertical-align: middle;\n",
       "    }\n",
       "\n",
       "    .dataframe tbody tr th {\n",
       "        vertical-align: top;\n",
       "    }\n",
       "\n",
       "    .dataframe thead th {\n",
       "        text-align: right;\n",
       "    }\n",
       "</style>\n",
       "<table border=\"1\" class=\"dataframe\">\n",
       "  <thead>\n",
       "    <tr style=\"text-align: right;\">\n",
       "      <th></th>\n",
       "      <th>Daily Time Spent on Site</th>\n",
       "      <th>Age</th>\n",
       "      <th>Area Income</th>\n",
       "      <th>Daily Internet Usage</th>\n",
       "      <th>Ad Topic Line</th>\n",
       "      <th>City</th>\n",
       "      <th>Gender</th>\n",
       "      <th>Country</th>\n",
       "      <th>Timestamp</th>\n",
       "      <th>Clicked on Ad</th>\n",
       "    </tr>\n",
       "  </thead>\n",
       "  <tbody>\n",
       "    <tr>\n",
       "      <th>0</th>\n",
       "      <td>62.26</td>\n",
       "      <td>32.0</td>\n",
       "      <td>69481.85</td>\n",
       "      <td>172.83</td>\n",
       "      <td>Decentralized real-time circuit</td>\n",
       "      <td>Lisafort</td>\n",
       "      <td>Male</td>\n",
       "      <td>Svalbard &amp; Jan Mayen Islands</td>\n",
       "      <td>2016-06-09 21:43:05</td>\n",
       "      <td>0</td>\n",
       "    </tr>\n",
       "    <tr>\n",
       "      <th>1</th>\n",
       "      <td>41.73</td>\n",
       "      <td>31.0</td>\n",
       "      <td>61840.26</td>\n",
       "      <td>207.17</td>\n",
       "      <td>Optional full-range projection</td>\n",
       "      <td>West Angelabury</td>\n",
       "      <td>Male</td>\n",
       "      <td>Singapore</td>\n",
       "      <td>2016-01-16 17:56:05</td>\n",
       "      <td>0</td>\n",
       "    </tr>\n",
       "    <tr>\n",
       "      <th>2</th>\n",
       "      <td>44.40</td>\n",
       "      <td>30.0</td>\n",
       "      <td>57877.15</td>\n",
       "      <td>172.83</td>\n",
       "      <td>Total 5thgeneration standardization</td>\n",
       "      <td>Reyesfurt</td>\n",
       "      <td>Female</td>\n",
       "      <td>Guadeloupe</td>\n",
       "      <td>2016-06-29 10:50:45</td>\n",
       "      <td>0</td>\n",
       "    </tr>\n",
       "    <tr>\n",
       "      <th>3</th>\n",
       "      <td>59.88</td>\n",
       "      <td>28.0</td>\n",
       "      <td>56180.93</td>\n",
       "      <td>207.17</td>\n",
       "      <td>Balanced empowering success</td>\n",
       "      <td>New Michael</td>\n",
       "      <td>Female</td>\n",
       "      <td>Zambia</td>\n",
       "      <td>2016-06-21 14:32:32</td>\n",
       "      <td>0</td>\n",
       "    </tr>\n",
       "    <tr>\n",
       "      <th>4</th>\n",
       "      <td>49.21</td>\n",
       "      <td>30.0</td>\n",
       "      <td>54324.73</td>\n",
       "      <td>201.58</td>\n",
       "      <td>Total 5thgeneration standardization</td>\n",
       "      <td>West Richard</td>\n",
       "      <td>Female</td>\n",
       "      <td>Qatar</td>\n",
       "      <td>2016-07-21 10:54:35</td>\n",
       "      <td>1</td>\n",
       "    </tr>\n",
       "    <tr>\n",
       "      <th>...</th>\n",
       "      <td>...</td>\n",
       "      <td>...</td>\n",
       "      <td>...</td>\n",
       "      <td>...</td>\n",
       "      <td>...</td>\n",
       "      <td>...</td>\n",
       "      <td>...</td>\n",
       "      <td>...</td>\n",
       "      <td>...</td>\n",
       "      <td>...</td>\n",
       "    </tr>\n",
       "    <tr>\n",
       "      <th>9995</th>\n",
       "      <td>41.73</td>\n",
       "      <td>31.0</td>\n",
       "      <td>61840.26</td>\n",
       "      <td>207.17</td>\n",
       "      <td>Profound executive flexibility</td>\n",
       "      <td>West Angelabury</td>\n",
       "      <td>Male</td>\n",
       "      <td>Singapore</td>\n",
       "      <td>2016-01-03 03:22:15</td>\n",
       "      <td>1</td>\n",
       "    </tr>\n",
       "    <tr>\n",
       "      <th>9996</th>\n",
       "      <td>41.73</td>\n",
       "      <td>28.0</td>\n",
       "      <td>51501.38</td>\n",
       "      <td>120.49</td>\n",
       "      <td>Managed zero tolerance concept</td>\n",
       "      <td>Kennedyfurt</td>\n",
       "      <td>Male</td>\n",
       "      <td>Luxembourg</td>\n",
       "      <td>2016-05-28 12:20:15</td>\n",
       "      <td>0</td>\n",
       "    </tr>\n",
       "    <tr>\n",
       "      <th>9997</th>\n",
       "      <td>55.60</td>\n",
       "      <td>39.0</td>\n",
       "      <td>38067.08</td>\n",
       "      <td>124.44</td>\n",
       "      <td>Intuitive exuding service-desk</td>\n",
       "      <td>North Randy</td>\n",
       "      <td>Female</td>\n",
       "      <td>Egypt</td>\n",
       "      <td>2016-01-05 11:53:17</td>\n",
       "      <td>0</td>\n",
       "    </tr>\n",
       "    <tr>\n",
       "      <th>9998</th>\n",
       "      <td>46.61</td>\n",
       "      <td>50.0</td>\n",
       "      <td>43974.49</td>\n",
       "      <td>123.13</td>\n",
       "      <td>Realigned content-based leverage</td>\n",
       "      <td>North Samantha</td>\n",
       "      <td>Female</td>\n",
       "      <td>Malawi</td>\n",
       "      <td>2016-04-04 07:07:46</td>\n",
       "      <td>1</td>\n",
       "    </tr>\n",
       "    <tr>\n",
       "      <th>9999</th>\n",
       "      <td>46.61</td>\n",
       "      <td>43.0</td>\n",
       "      <td>60575.99</td>\n",
       "      <td>198.45</td>\n",
       "      <td>Optimized upward-trending productivity</td>\n",
       "      <td>Port Jeffrey</td>\n",
       "      <td>Male</td>\n",
       "      <td>Northern Mariana Islands</td>\n",
       "      <td>2016-04-03 21:13:46</td>\n",
       "      <td>1</td>\n",
       "    </tr>\n",
       "  </tbody>\n",
       "</table>\n",
       "<p>10000 rows × 10 columns</p>\n",
       "</div>"
      ],
      "text/plain": [
       "      Daily Time Spent on Site   Age  Area Income  Daily Internet Usage  \\\n",
       "0                        62.26  32.0     69481.85                172.83   \n",
       "1                        41.73  31.0     61840.26                207.17   \n",
       "2                        44.40  30.0     57877.15                172.83   \n",
       "3                        59.88  28.0     56180.93                207.17   \n",
       "4                        49.21  30.0     54324.73                201.58   \n",
       "...                        ...   ...          ...                   ...   \n",
       "9995                     41.73  31.0     61840.26                207.17   \n",
       "9996                     41.73  28.0     51501.38                120.49   \n",
       "9997                     55.60  39.0     38067.08                124.44   \n",
       "9998                     46.61  50.0     43974.49                123.13   \n",
       "9999                     46.61  43.0     60575.99                198.45   \n",
       "\n",
       "                               Ad Topic Line             City  Gender  \\\n",
       "0            Decentralized real-time circuit         Lisafort    Male   \n",
       "1             Optional full-range projection  West Angelabury    Male   \n",
       "2        Total 5thgeneration standardization        Reyesfurt  Female   \n",
       "3                Balanced empowering success      New Michael  Female   \n",
       "4        Total 5thgeneration standardization     West Richard  Female   \n",
       "...                                      ...              ...     ...   \n",
       "9995          Profound executive flexibility  West Angelabury    Male   \n",
       "9996          Managed zero tolerance concept      Kennedyfurt    Male   \n",
       "9997          Intuitive exuding service-desk      North Randy  Female   \n",
       "9998        Realigned content-based leverage   North Samantha  Female   \n",
       "9999  Optimized upward-trending productivity     Port Jeffrey    Male   \n",
       "\n",
       "                           Country            Timestamp  Clicked on Ad  \n",
       "0     Svalbard & Jan Mayen Islands  2016-06-09 21:43:05              0  \n",
       "1                        Singapore  2016-01-16 17:56:05              0  \n",
       "2                       Guadeloupe  2016-06-29 10:50:45              0  \n",
       "3                           Zambia  2016-06-21 14:32:32              0  \n",
       "4                            Qatar  2016-07-21 10:54:35              1  \n",
       "...                            ...                  ...            ...  \n",
       "9995                     Singapore  2016-01-03 03:22:15              1  \n",
       "9996                    Luxembourg  2016-05-28 12:20:15              0  \n",
       "9997                         Egypt  2016-01-05 11:53:17              0  \n",
       "9998                        Malawi  2016-04-04 07:07:46              1  \n",
       "9999      Northern Mariana Islands  2016-04-03 21:13:46              1  \n",
       "\n",
       "[10000 rows x 10 columns]"
      ]
     },
     "execution_count": 210,
     "metadata": {},
     "output_type": "execute_result"
    }
   ],
   "source": [
    "data"
   ]
  },
  {
   "cell_type": "code",
   "execution_count": 211,
   "id": "2890e617",
   "metadata": {},
   "outputs": [
    {
     "name": "stdout",
     "output_type": "stream",
     "text": [
      "<class 'pandas.core.frame.DataFrame'>\n",
      "RangeIndex: 10000 entries, 0 to 9999\n",
      "Data columns (total 10 columns):\n",
      " #   Column                    Non-Null Count  Dtype  \n",
      "---  ------                    --------------  -----  \n",
      " 0   Daily Time Spent on Site  10000 non-null  float64\n",
      " 1   Age                       10000 non-null  float64\n",
      " 2   Area Income               10000 non-null  float64\n",
      " 3   Daily Internet Usage      10000 non-null  float64\n",
      " 4   Ad Topic Line             10000 non-null  object \n",
      " 5   City                      10000 non-null  object \n",
      " 6   Gender                    10000 non-null  object \n",
      " 7   Country                   10000 non-null  object \n",
      " 8   Timestamp                 10000 non-null  object \n",
      " 9   Clicked on Ad             10000 non-null  int64  \n",
      "dtypes: float64(4), int64(1), object(5)\n",
      "memory usage: 781.4+ KB\n"
     ]
    }
   ],
   "source": [
    "data.info()"
   ]
  },
  {
   "cell_type": "code",
   "execution_count": 212,
   "id": "69521b5f",
   "metadata": {},
   "outputs": [
    {
     "data": {
      "text/plain": [
       "Daily Time Spent on Site    0\n",
       "Age                         0\n",
       "Area Income                 0\n",
       "Daily Internet Usage        0\n",
       "Ad Topic Line               0\n",
       "City                        0\n",
       "Gender                      0\n",
       "Country                     0\n",
       "Timestamp                   0\n",
       "Clicked on Ad               0\n",
       "dtype: int64"
      ]
     },
     "execution_count": 212,
     "metadata": {},
     "output_type": "execute_result"
    }
   ],
   "source": [
    "data.isnull().sum()"
   ]
  },
  {
   "cell_type": "code",
   "execution_count": 213,
   "id": "08564dc2",
   "metadata": {},
   "outputs": [
    {
     "name": "stdout",
     "output_type": "stream",
     "text": [
      "<class 'pandas.core.frame.DataFrame'>\n",
      "RangeIndex: 10000 entries, 0 to 9999\n",
      "Data columns (total 10 columns):\n",
      " #   Column                    Non-Null Count  Dtype         \n",
      "---  ------                    --------------  -----         \n",
      " 0   Daily Time Spent on Site  10000 non-null  float64       \n",
      " 1   Age                       10000 non-null  float64       \n",
      " 2   Area Income               10000 non-null  float64       \n",
      " 3   Daily Internet Usage      10000 non-null  float64       \n",
      " 4   Ad Topic Line             10000 non-null  object        \n",
      " 5   City                      10000 non-null  object        \n",
      " 6   Gender                    10000 non-null  object        \n",
      " 7   Country                   10000 non-null  object        \n",
      " 8   Timestamp                 10000 non-null  datetime64[ns]\n",
      " 9   Clicked on Ad             10000 non-null  int64         \n",
      "dtypes: datetime64[ns](1), float64(4), int64(1), object(4)\n",
      "memory usage: 781.4+ KB\n"
     ]
    }
   ],
   "source": [
    "data.Timestamp=pd.to_datetime(data.Timestamp)\n",
    "data.info()"
   ]
  },
  {
   "cell_type": "code",
   "execution_count": 214,
   "id": "9dbedff6",
   "metadata": {
    "scrolled": true
   },
   "outputs": [
    {
     "data": {
      "text/plain": [
       "Timestamp                   567\n",
       "Ad Topic Line               559\n",
       "Area Income                 524\n",
       "City                        521\n",
       "Daily Internet Usage        505\n",
       "Daily Time Spent on Site    460\n",
       "Country                     207\n",
       "Age                          39\n",
       "Gender                        2\n",
       "Clicked on Ad                 2\n",
       "dtype: int64"
      ]
     },
     "execution_count": 214,
     "metadata": {},
     "output_type": "execute_result"
    }
   ],
   "source": [
    "data.nunique().sort_values(ascending=False)"
   ]
  },
  {
   "cell_type": "markdown",
   "id": "1cc2bb97",
   "metadata": {},
   "source": [
    "use of one hot encoding"
   ]
  },
  {
   "cell_type": "code",
   "execution_count": 19,
   "id": "9b2a0c33",
   "metadata": {},
   "outputs": [
    {
     "data": {
      "text/html": [
       "<div>\n",
       "<style scoped>\n",
       "    .dataframe tbody tr th:only-of-type {\n",
       "        vertical-align: middle;\n",
       "    }\n",
       "\n",
       "    .dataframe tbody tr th {\n",
       "        vertical-align: top;\n",
       "    }\n",
       "\n",
       "    .dataframe thead th {\n",
       "        text-align: right;\n",
       "    }\n",
       "</style>\n",
       "<table border=\"1\" class=\"dataframe\">\n",
       "  <thead>\n",
       "    <tr style=\"text-align: right;\">\n",
       "      <th></th>\n",
       "      <th>Female</th>\n",
       "      <th>Male</th>\n",
       "    </tr>\n",
       "  </thead>\n",
       "  <tbody>\n",
       "    <tr>\n",
       "      <th>0</th>\n",
       "      <td>0</td>\n",
       "      <td>1</td>\n",
       "    </tr>\n",
       "    <tr>\n",
       "      <th>1</th>\n",
       "      <td>0</td>\n",
       "      <td>1</td>\n",
       "    </tr>\n",
       "    <tr>\n",
       "      <th>2</th>\n",
       "      <td>1</td>\n",
       "      <td>0</td>\n",
       "    </tr>\n",
       "    <tr>\n",
       "      <th>3</th>\n",
       "      <td>1</td>\n",
       "      <td>0</td>\n",
       "    </tr>\n",
       "    <tr>\n",
       "      <th>4</th>\n",
       "      <td>1</td>\n",
       "      <td>0</td>\n",
       "    </tr>\n",
       "    <tr>\n",
       "      <th>...</th>\n",
       "      <td>...</td>\n",
       "      <td>...</td>\n",
       "    </tr>\n",
       "    <tr>\n",
       "      <th>9995</th>\n",
       "      <td>0</td>\n",
       "      <td>1</td>\n",
       "    </tr>\n",
       "    <tr>\n",
       "      <th>9996</th>\n",
       "      <td>0</td>\n",
       "      <td>1</td>\n",
       "    </tr>\n",
       "    <tr>\n",
       "      <th>9997</th>\n",
       "      <td>1</td>\n",
       "      <td>0</td>\n",
       "    </tr>\n",
       "    <tr>\n",
       "      <th>9998</th>\n",
       "      <td>1</td>\n",
       "      <td>0</td>\n",
       "    </tr>\n",
       "    <tr>\n",
       "      <th>9999</th>\n",
       "      <td>0</td>\n",
       "      <td>1</td>\n",
       "    </tr>\n",
       "  </tbody>\n",
       "</table>\n",
       "<p>10000 rows × 2 columns</p>\n",
       "</div>"
      ],
      "text/plain": [
       "      Female  Male\n",
       "0          0     1\n",
       "1          0     1\n",
       "2          1     0\n",
       "3          1     0\n",
       "4          1     0\n",
       "...      ...   ...\n",
       "9995       0     1\n",
       "9996       0     1\n",
       "9997       1     0\n",
       "9998       1     0\n",
       "9999       0     1\n",
       "\n",
       "[10000 rows x 2 columns]"
      ]
     },
     "execution_count": 19,
     "metadata": {},
     "output_type": "execute_result"
    }
   ],
   "source": [
    "data = pd.get_dummies(data[\"Gender\"])\n",
    "data"
   ]
  },
  {
   "cell_type": "markdown",
   "id": "76b82a7c",
   "metadata": {},
   "source": [
    "use map function"
   ]
  },
  {
   "cell_type": "code",
   "execution_count": 26,
   "id": "b731fda1",
   "metadata": {},
   "outputs": [],
   "source": [
    "data[\"Clicked on Ad\"] = data[\"Clicked on Ad\"].map({0: \"No\", 1: \"Yes\"})\n",
    "data[\"Gender\"] = data[\"Gender\"].map({\"Male\": 1,\"Female\": 0})"
   ]
  },
  {
   "cell_type": "markdown",
   "id": "8c1bae62",
   "metadata": {},
   "source": [
    "use replace "
   ]
  },
  {
   "cell_type": "code",
   "execution_count": 215,
   "id": "ba3bb05b",
   "metadata": {},
   "outputs": [],
   "source": [
    "#data=data.replace(\"Yes\",1)\n",
    "#data=data.replace(\"No\",0)\n",
    "data=data.replace(\"Male\",1)\n",
    "data=data.replace(\"Female\",0)"
   ]
  },
  {
   "cell_type": "code",
   "execution_count": 242,
   "id": "5acf56c7",
   "metadata": {},
   "outputs": [
    {
     "data": {
      "text/plain": [
       "0    5376\n",
       "1    4624\n",
       "Name: Gender, dtype: int64"
      ]
     },
     "execution_count": 242,
     "metadata": {},
     "output_type": "execute_result"
    }
   ],
   "source": [
    "data[\"Gender\"].value_counts()"
   ]
  },
  {
   "cell_type": "markdown",
   "id": "5c7db57e",
   "metadata": {},
   "source": [
    "## Calculating CTR of Ads"
   ]
  },
  {
   "cell_type": "code",
   "execution_count": 216,
   "id": "1d50f43a",
   "metadata": {},
   "outputs": [
    {
     "data": {
      "text/plain": [
       "0    5083\n",
       "1    4917\n",
       "Name: Clicked on Ad, dtype: int64"
      ]
     },
     "execution_count": 216,
     "metadata": {},
     "output_type": "execute_result"
    }
   ],
   "source": [
    "data[\"Clicked on Ad\"].value_counts()"
   ]
  },
  {
   "cell_type": "code",
   "execution_count": 217,
   "id": "44e4bbaf",
   "metadata": {},
   "outputs": [
    {
     "name": "stdout",
     "output_type": "stream",
     "text": [
      "CTR is : 49.17\n"
     ]
    }
   ],
   "source": [
    "click_through_rate = 4917 / 10000 * 100\n",
    "print(\"CTR is :\",click_through_rate)"
   ]
  },
  {
   "cell_type": "code",
   "execution_count": 218,
   "id": "85379109",
   "metadata": {},
   "outputs": [
    {
     "name": "stdout",
     "output_type": "stream",
     "text": [
      "Clicked on Ad\n",
      "0    50.83\n",
      "1    49.17\n",
      "Name: Clicked on Ad, dtype: float64 \n",
      "\n",
      "Country\n",
      "Australia                                       3.88\n",
      "Czech Republic                                  3.30\n",
      "Turkey                                          3.12\n",
      "Qatar                                           2.24\n",
      "Hong Kong                                       2.21\n",
      "                                                ... \n",
      "South Georgia and the South Sandwich Islands    0.01\n",
      "Wallis and Futuna                               0.01\n",
      "Sierra Leone                                    0.01\n",
      "Niue                                            0.01\n",
      "Paraguay                                        0.01\n",
      "Name: Country, Length: 207, dtype: float64 \n",
      "\n",
      "City\n",
      "Hubbardmouth       3.36\n",
      "West Brandonton    2.75\n",
      "Lisafort           2.61\n",
      "Wintersfort        2.30\n",
      "Stewartbury        2.07\n",
      "                   ... \n",
      "Turnerview         0.01\n",
      "North Tiffany      0.01\n",
      "North Kristine     0.01\n",
      "East Troyhaven     0.01\n",
      "Davidview          0.01\n",
      "Name: City, Length: 521, dtype: float64 \n",
      "\n",
      "Gender\n",
      "0    53.76\n",
      "1    46.24\n",
      "Name: Gender, dtype: float64 \n",
      "\n"
     ]
    }
   ],
   "source": [
    "for i in ['Clicked on Ad', 'Country', 'City','Gender']: \n",
    "    print(i)\n",
    "    print(round(data[i].value_counts()*100/10000,2),'\\n')"
   ]
  },
  {
   "cell_type": "code",
   "execution_count": 219,
   "id": "7ccd2a9d",
   "metadata": {},
   "outputs": [
    {
     "name": "stdout",
     "output_type": "stream",
     "text": [
      "0    5083\n",
      "1    4917\n",
      "Name: Clicked on Ad, dtype: int64\n",
      "\n",
      "\n"
     ]
    },
    {
     "data": {
      "image/png": "[encoded data removed]",
      "text/plain": [
       "<Figure size 432x288 with 1 Axes>"
      ]
     },
     "metadata": {
      "needs_background": "light"
     },
     "output_type": "display_data"
    }
   ],
   "source": [
    "print(data['Clicked on Ad'].value_counts())\n",
    "print(\"\\n\")\n",
    "plt.figure()\n",
    "sns.countplot(x='Clicked on Ad', data=data)\n",
    "plt.show()"
   ]
  },
  {
   "cell_type": "code",
   "execution_count": 220,
   "id": "f32ea725",
   "metadata": {},
   "outputs": [
    {
     "data": {
      "text/plain": [
       "Text(0.5, 1.0, 'Pairwise Correlations')"
      ]
     },
     "execution_count": 220,
     "metadata": {},
     "output_type": "execute_result"
    },
    {
     "data": {
      "image/png": "[encoded data removed]",
      "text/plain": [
       "<Figure size 720x720 with 2 Axes>"
      ]
     },
     "metadata": {
      "needs_background": "light"
     },
     "output_type": "display_data"
    }
   ],
   "source": [
    "corr = data.corr()\n",
    "f, ax = plt.subplots(figsize=(10,10))\n",
    "sns.heatmap(corr, ax=ax, annot=True)\n",
    "plt.title(\"Pairwise Correlations\")"
   ]
  },
  {
   "cell_type": "markdown",
   "id": "d9f2e5f0",
   "metadata": {},
   "source": [
    "Feature Selection"
   ]
  },
  {
   "cell_type": "code",
   "execution_count": 221,
   "id": "9fb79acb",
   "metadata": {},
   "outputs": [],
   "source": [
    "X=data.iloc[:,0:7]\n",
    "X=X.drop(['Ad Topic Line','City'],axis=1)\n",
    "y=data.iloc[:,9]"
   ]
  },
  {
   "cell_type": "markdown",
   "id": "d8e244c6",
   "metadata": {},
   "source": [
    "# Prediction Models"
   ]
  },
  {
   "cell_type": "code",
   "execution_count": 222,
   "id": "daa85c96",
   "metadata": {},
   "outputs": [],
   "source": [
    "X_train, X_test, y_train, y_test = train_test_split(X, y, test_size=0.3, random_state=0)"
   ]
  },
  {
   "cell_type": "markdown",
   "id": "dc531d6e",
   "metadata": {},
   "source": [
    "## Logistic Regression Model Fitting"
   ]
  },
  {
   "cell_type": "code",
   "execution_count": 223,
   "id": "d99a1305",
   "metadata": {},
   "outputs": [],
   "source": [
    "from sklearn.linear_model import LogisticRegression\n",
    "from sklearn.metrics import accuracy_score\n",
    "from sklearn.metrics import classification_report\n",
    "from sklearn.metrics import confusion_matrix\n",
    "from sklearn.metrics import classification_report"
   ]
  },
  {
   "cell_type": "code",
   "execution_count": 224,
   "id": "c8548008",
   "metadata": {},
   "outputs": [
    {
     "data": {
      "text/plain": [
       "LogisticRegression()"
      ]
     },
     "execution_count": 224,
     "metadata": {},
     "output_type": "execute_result"
    }
   ],
   "source": [
    "logreg = LogisticRegression()\n",
    "logreg.fit(X_train, y_train)"
   ]
  },
  {
   "cell_type": "code",
   "execution_count": 225,
   "id": "8b50170f",
   "metadata": {},
   "outputs": [],
   "source": [
    "y_pred = logreg.predict(X_test)"
   ]
  },
  {
   "cell_type": "code",
   "execution_count": 226,
   "id": "27cf3420",
   "metadata": {},
   "outputs": [
    {
     "name": "stdout",
     "output_type": "stream",
     "text": [
      "Accuracy of logistic regression classifier on train set: 0.70\n",
      "Accuracy of logistic regression classifier on test set: 0.68\n"
     ]
    }
   ],
   "source": [
    "print('Accuracy of logistic regression classifier on train set: {:.2f}'.format(logreg.score(X_train, y_train)))\n",
    "print('Accuracy of logistic regression classifier on test set: {:.2f}'.format(logreg.score(X_test, y_test)))"
   ]
  },
  {
   "cell_type": "code",
   "execution_count": 227,
   "id": "c68647fd",
   "metadata": {},
   "outputs": [
    {
     "name": "stdout",
     "output_type": "stream",
     "text": [
      "              precision    recall  f1-score   support\n",
      "\n",
      "           0       0.68      0.70      0.69      1517\n",
      "           1       0.68      0.67      0.68      1483\n",
      "\n",
      "    accuracy                           0.68      3000\n",
      "   macro avg       0.68      0.68      0.68      3000\n",
      "weighted avg       0.68      0.68      0.68      3000\n",
      "\n"
     ]
    }
   ],
   "source": [
    "print(classification_report(y_test, y_pred))"
   ]
  },
  {
   "cell_type": "code",
   "execution_count": 228,
   "id": "9212075e",
   "metadata": {},
   "outputs": [
    {
     "name": "stdout",
     "output_type": "stream",
     "text": [
      "[[1058  459]\n",
      " [ 487  996]]\n"
     ]
    }
   ],
   "source": [
    "confusion_matrix = confusion_matrix(y_test, y_pred)\n",
    "print(confusion_matrix)"
   ]
  },
  {
   "cell_type": "markdown",
   "id": "70355b65",
   "metadata": {},
   "source": [
    "The result is telling us that we have 1058+996 correct predictions and 459+487 incorrect predictions."
   ]
  },
  {
   "cell_type": "markdown",
   "id": "c627ad9f",
   "metadata": {},
   "source": [
    "## DecisionTreeClassifier Model Fitting"
   ]
  },
  {
   "cell_type": "code",
   "execution_count": 229,
   "id": "c2dfc494",
   "metadata": {},
   "outputs": [
    {
     "data": {
      "text/plain": [
       "DecisionTreeClassifier()"
      ]
     },
     "execution_count": 229,
     "metadata": {},
     "output_type": "execute_result"
    }
   ],
   "source": [
    "from sklearn.tree import DecisionTreeClassifier\n",
    "dtmodel=DecisionTreeClassifier(criterion = \"gini\")\n",
    "dtmodel.fit(X_train,y_train)"
   ]
  },
  {
   "cell_type": "code",
   "execution_count": 230,
   "id": "67864977",
   "metadata": {},
   "outputs": [
    {
     "data": {
      "text/plain": [
       "array([0, 0, 0, ..., 0, 1, 1], dtype=int64)"
      ]
     },
     "execution_count": 230,
     "metadata": {},
     "output_type": "execute_result"
    }
   ],
   "source": [
    "y_pred=dtmodel.predict(X_test)\n",
    "y_pred"
   ]
  },
  {
   "cell_type": "code",
   "execution_count": 231,
   "id": "b45b9ca0",
   "metadata": {},
   "outputs": [
    {
     "name": "stdout",
     "output_type": "stream",
     "text": [
      "              precision    recall  f1-score   support\n",
      "\n",
      "           0       0.73      0.76      0.74      1517\n",
      "           1       0.74      0.71      0.73      1483\n",
      "\n",
      "    accuracy                           0.73      3000\n",
      "   macro avg       0.73      0.73      0.73      3000\n",
      "weighted avg       0.73      0.73      0.73      3000\n",
      "\n"
     ]
    }
   ],
   "source": [
    "print(classification_report(y_test, y_pred))"
   ]
  },
  {
   "cell_type": "code",
   "execution_count": 232,
   "id": "9f4cc230",
   "metadata": {},
   "outputs": [
    {
     "name": "stdout",
     "output_type": "stream",
     "text": [
      "Accuracy of Decision Tree Classifier on train set: 0.97\n",
      "Accuracy of Decision Tree Classifier on test set: 0.73\n"
     ]
    }
   ],
   "source": [
    "print('Accuracy of Decision Tree Classifier on train set: {:.2f}'.format(dtmodel.score(X_train, y_train)))\n",
    "print('Accuracy of Decision Tree Classifier on test set: {:.2f}'.format(dtmodel.score(X_test, y_test)))"
   ]
  },
  {
   "cell_type": "markdown",
   "id": "ed27b2f1",
   "metadata": {},
   "source": [
    "## RandomForestClassifier Model Fitting"
   ]
  },
  {
   "cell_type": "code",
   "execution_count": 237,
   "id": "0d915f68",
   "metadata": {},
   "outputs": [
    {
     "data": {
      "text/plain": [
       "RandomForestClassifier()"
      ]
     },
     "execution_count": 237,
     "metadata": {},
     "output_type": "execute_result"
    }
   ],
   "source": [
    "from sklearn.ensemble import RandomForestClassifier\n",
    "rfmodel = RandomForestClassifier()\n",
    "rfmodel.fit(X, y)"
   ]
  },
  {
   "cell_type": "code",
   "execution_count": 238,
   "id": "f4f67191",
   "metadata": {},
   "outputs": [
    {
     "data": {
      "text/plain": [
       "array([0, 0, 0, ..., 1, 1, 1], dtype=int64)"
      ]
     },
     "execution_count": 238,
     "metadata": {},
     "output_type": "execute_result"
    }
   ],
   "source": [
    "y_pred=rfmodel.predict(X_test)\n",
    "y_pred"
   ]
  },
  {
   "cell_type": "code",
   "execution_count": 239,
   "id": "2c1f2a83",
   "metadata": {},
   "outputs": [
    {
     "name": "stdout",
     "output_type": "stream",
     "text": [
      "              precision    recall  f1-score   support\n",
      "\n",
      "           0       0.96      0.97      0.97      1517\n",
      "           1       0.97      0.96      0.97      1483\n",
      "\n",
      "    accuracy                           0.97      3000\n",
      "   macro avg       0.97      0.97      0.97      3000\n",
      "weighted avg       0.97      0.97      0.97      3000\n",
      "\n"
     ]
    }
   ],
   "source": [
    "print(classification_report(y_test, y_pred))"
   ]
  },
  {
   "cell_type": "code",
   "execution_count": 240,
   "id": "6eb6aee4",
   "metadata": {},
   "outputs": [
    {
     "name": "stdout",
     "output_type": "stream",
     "text": [
      "Accuracy of Random Forest Classifier on train set: 0.96\n",
      "Accuracy of Random Forest Classifier on test set: 0.97\n"
     ]
    }
   ],
   "source": [
    "print('Accuracy of Random Forest Classifier on train set: {:.2f}'.format(rfmodel.score(X_train, y_train)))\n",
    "print('Accuracy of Random Forest Classifier on test set: {:.2f}'.format(rfmodel.score(X_test, y_test)))"
   ]
  },
  {
   "cell_type": "markdown",
   "id": "5e242ad3",
   "metadata": {},
   "source": [
    "# let’s test the model by making predictions"
   ]
  },
  {
   "cell_type": "code",
   "execution_count": 241,
   "id": "66177f34",
   "metadata": {},
   "outputs": [
    {
     "name": "stdout",
     "output_type": "stream",
     "text": [
      "Ads Click Through Rate Prediction : \n",
      "Daily Time Spent on Site: 50\n",
      "Age: 45\n",
      "Area Income: 68000\n",
      "Daily Internet Usage: 500\n",
      "Gender (Male = 1, Female = 0) : 1\n",
      "0 means not clicked, and 1 means clicked\n",
      "Will the user click on ad =  [0]\n"
     ]
    }
   ],
   "source": [
    "print(\"Ads Click Through Rate Prediction : \")\n",
    "a = float(input(\"Daily Time Spent on Site: \"))\n",
    "b = float(input(\"Age: \"))\n",
    "c = float(input(\"Area Income: \"))\n",
    "d = float(input(\"Daily Internet Usage: \"))\n",
    "e = input(\"Gender (Male = 1, Female = 0) : \")\n",
    "\n",
    "features = np.array([[a, b, c, d, e]])\n",
    "print('0 means not clicked, and 1 means clicked')\n",
    "print(\"Will the user click on ad = \", rfmodel.predict(features))"
   ]
  },
  {
   "cell_type": "code",
   "execution_count": null,
   "id": "5117ee03",
   "metadata": {},
   "outputs": [],
   "source": []
  }
 ],
 "metadata": {
  "kernelspec": {
   "display_name": "Python 3 (ipykernel)",
   "language": "python",
   "name": "python3"
  },
  "language_info": {
   "codemirror_mode": {
    "name": "ipython",
    "version": 3
   },
   "file_extension": ".py",
   "mimetype": "text/x-python",
   "name": "python",
   "nbconvert_exporter": "python",
   "pygments_lexer": "ipython3",
   "version": "3.9.12"
  }
 },
 "nbformat": 4,
 "nbformat_minor": 5
}
