{
 "cells": [
  {
   "cell_type": "markdown",
   "id": "508f18aa",
   "metadata": {},
   "source": [
    "# Clean, Analyze, Visualize And Perform EDA With Klib Library"
   ]
  },
  {
   "cell_type": "markdown",
   "id": "6ffb566b",
   "metadata": {},
   "source": [
    "### The klib package provides a number of very easily applicable functions with sensible default values that can be used on virtually any DataFrame to assess data quality, gain insight, perform cleaning operations and visualizations which results in a much lighter and more convenient to work with Pandas DataFrame."
   ]
  },
  {
   "cell_type": "markdown",
   "id": "310bbac4",
   "metadata": {},
   "source": [
    "# klib.clean - functions for cleaning datasets\n",
    "\n",
    "- klib.data_cleaning() \n",
    " -performs datacleaning (drop duplicates & empty rows/cols, adjust dtypes,...)\n",
    "- klib.clean_column_names() \n",
    " -cleans and standardizes column names, also called inside data_cleaning()\n",
    "- klib.convert_datatypes() \n",
    " -converts existing to more efficient dtypes, also called inside data_cleaning()"
   ]
  },
  {
   "cell_type": "code",
   "execution_count": 26,
   "id": "663afc4e",
   "metadata": {},
   "outputs": [],
   "source": [
    "# Import \n",
    "import pandas as pd\n",
    "import numpy as np\n",
    "import klib"
   ]
  },
  {
   "cell_type": "markdown",
   "id": "f0a41809",
   "metadata": {},
   "source": [
    "### Loading Dataset"
   ]
  },
  {
   "cell_type": "code",
   "execution_count": 27,
   "id": "35fff1ec",
   "metadata": {},
   "outputs": [
    {
     "data": {
      "text/html": [
       "<div>\n",
       "<style scoped>\n",
       "    .dataframe tbody tr th:only-of-type {\n",
       "        vertical-align: middle;\n",
       "    }\n",
       "\n",
       "    .dataframe tbody tr th {\n",
       "        vertical-align: top;\n",
       "    }\n",
       "\n",
       "    .dataframe thead th {\n",
       "        text-align: right;\n",
       "    }\n",
       "</style>\n",
       "<table border=\"1\" class=\"dataframe\">\n",
       "  <thead>\n",
       "    <tr style=\"text-align: right;\">\n",
       "      <th></th>\n",
       "      <th>Rank</th>\n",
       "      <th>Name</th>\n",
       "      <th>Platform</th>\n",
       "      <th>Year</th>\n",
       "      <th>Genre</th>\n",
       "      <th>Publisher</th>\n",
       "      <th>NA_Sales</th>\n",
       "      <th>EU_Sales</th>\n",
       "      <th>JP_Sales</th>\n",
       "      <th>Other_Sales</th>\n",
       "      <th>Global_Sales</th>\n",
       "    </tr>\n",
       "  </thead>\n",
       "  <tbody>\n",
       "    <tr>\n",
       "      <th>0</th>\n",
       "      <td>1</td>\n",
       "      <td>Wii Sports</td>\n",
       "      <td>Wii</td>\n",
       "      <td>2006.0</td>\n",
       "      <td>Sports</td>\n",
       "      <td>Nintendo</td>\n",
       "      <td>41.49</td>\n",
       "      <td>29.02</td>\n",
       "      <td>3.77</td>\n",
       "      <td>8.46</td>\n",
       "      <td>82.74</td>\n",
       "    </tr>\n",
       "    <tr>\n",
       "      <th>1</th>\n",
       "      <td>2</td>\n",
       "      <td>Super Mario Bros.</td>\n",
       "      <td>NES</td>\n",
       "      <td>1985.0</td>\n",
       "      <td>Platform</td>\n",
       "      <td>Nintendo</td>\n",
       "      <td>29.08</td>\n",
       "      <td>3.58</td>\n",
       "      <td>6.81</td>\n",
       "      <td>0.77</td>\n",
       "      <td>40.24</td>\n",
       "    </tr>\n",
       "    <tr>\n",
       "      <th>2</th>\n",
       "      <td>3</td>\n",
       "      <td>Mario Kart Wii</td>\n",
       "      <td>Wii</td>\n",
       "      <td>2008.0</td>\n",
       "      <td>Racing</td>\n",
       "      <td>Nintendo</td>\n",
       "      <td>15.85</td>\n",
       "      <td>12.88</td>\n",
       "      <td>3.79</td>\n",
       "      <td>3.31</td>\n",
       "      <td>35.82</td>\n",
       "    </tr>\n",
       "    <tr>\n",
       "      <th>3</th>\n",
       "      <td>4</td>\n",
       "      <td>Wii Sports Resort</td>\n",
       "      <td>Wii</td>\n",
       "      <td>2009.0</td>\n",
       "      <td>Sports</td>\n",
       "      <td>Nintendo</td>\n",
       "      <td>15.75</td>\n",
       "      <td>11.01</td>\n",
       "      <td>3.28</td>\n",
       "      <td>2.96</td>\n",
       "      <td>33.00</td>\n",
       "    </tr>\n",
       "    <tr>\n",
       "      <th>4</th>\n",
       "      <td>5</td>\n",
       "      <td>Pokemon Red/Pokemon Blue</td>\n",
       "      <td>GB</td>\n",
       "      <td>1996.0</td>\n",
       "      <td>Role-Playing</td>\n",
       "      <td>Nintendo</td>\n",
       "      <td>11.27</td>\n",
       "      <td>8.89</td>\n",
       "      <td>10.22</td>\n",
       "      <td>1.00</td>\n",
       "      <td>31.37</td>\n",
       "    </tr>\n",
       "    <tr>\n",
       "      <th>...</th>\n",
       "      <td>...</td>\n",
       "      <td>...</td>\n",
       "      <td>...</td>\n",
       "      <td>...</td>\n",
       "      <td>...</td>\n",
       "      <td>...</td>\n",
       "      <td>...</td>\n",
       "      <td>...</td>\n",
       "      <td>...</td>\n",
       "      <td>...</td>\n",
       "      <td>...</td>\n",
       "    </tr>\n",
       "    <tr>\n",
       "      <th>16593</th>\n",
       "      <td>16596</td>\n",
       "      <td>Woody Woodpecker in Crazy Castle 5</td>\n",
       "      <td>GBA</td>\n",
       "      <td>2002.0</td>\n",
       "      <td>Platform</td>\n",
       "      <td>Kemco</td>\n",
       "      <td>0.01</td>\n",
       "      <td>0.00</td>\n",
       "      <td>0.00</td>\n",
       "      <td>0.00</td>\n",
       "      <td>0.01</td>\n",
       "    </tr>\n",
       "    <tr>\n",
       "      <th>16594</th>\n",
       "      <td>16597</td>\n",
       "      <td>Men in Black II: Alien Escape</td>\n",
       "      <td>GC</td>\n",
       "      <td>2003.0</td>\n",
       "      <td>Shooter</td>\n",
       "      <td>Infogrames</td>\n",
       "      <td>0.01</td>\n",
       "      <td>0.00</td>\n",
       "      <td>0.00</td>\n",
       "      <td>0.00</td>\n",
       "      <td>0.01</td>\n",
       "    </tr>\n",
       "    <tr>\n",
       "      <th>16595</th>\n",
       "      <td>16598</td>\n",
       "      <td>SCORE International Baja 1000: The Official Game</td>\n",
       "      <td>PS2</td>\n",
       "      <td>2008.0</td>\n",
       "      <td>Racing</td>\n",
       "      <td>Activision</td>\n",
       "      <td>0.00</td>\n",
       "      <td>0.00</td>\n",
       "      <td>0.00</td>\n",
       "      <td>0.00</td>\n",
       "      <td>0.01</td>\n",
       "    </tr>\n",
       "    <tr>\n",
       "      <th>16596</th>\n",
       "      <td>16599</td>\n",
       "      <td>Know How 2</td>\n",
       "      <td>DS</td>\n",
       "      <td>2010.0</td>\n",
       "      <td>Puzzle</td>\n",
       "      <td>7G//AMES</td>\n",
       "      <td>0.00</td>\n",
       "      <td>0.01</td>\n",
       "      <td>0.00</td>\n",
       "      <td>0.00</td>\n",
       "      <td>0.01</td>\n",
       "    </tr>\n",
       "    <tr>\n",
       "      <th>16597</th>\n",
       "      <td>16600</td>\n",
       "      <td>Spirits &amp; Spells</td>\n",
       "      <td>GBA</td>\n",
       "      <td>2003.0</td>\n",
       "      <td>Platform</td>\n",
       "      <td>Wanadoo</td>\n",
       "      <td>0.01</td>\n",
       "      <td>0.00</td>\n",
       "      <td>0.00</td>\n",
       "      <td>0.00</td>\n",
       "      <td>0.01</td>\n",
       "    </tr>\n",
       "  </tbody>\n",
       "</table>\n",
       "<p>16598 rows × 11 columns</p>\n",
       "</div>"
      ],
      "text/plain": [
       "        Rank                                              Name Platform   \n",
       "0          1                                        Wii Sports      Wii  \\\n",
       "1          2                                 Super Mario Bros.      NES   \n",
       "2          3                                    Mario Kart Wii      Wii   \n",
       "3          4                                 Wii Sports Resort      Wii   \n",
       "4          5                          Pokemon Red/Pokemon Blue       GB   \n",
       "...      ...                                               ...      ...   \n",
       "16593  16596                Woody Woodpecker in Crazy Castle 5      GBA   \n",
       "16594  16597                     Men in Black II: Alien Escape       GC   \n",
       "16595  16598  SCORE International Baja 1000: The Official Game      PS2   \n",
       "16596  16599                                        Know How 2       DS   \n",
       "16597  16600                                  Spirits & Spells      GBA   \n",
       "\n",
       "         Year         Genre   Publisher  NA_Sales  EU_Sales  JP_Sales   \n",
       "0      2006.0        Sports    Nintendo     41.49     29.02      3.77  \\\n",
       "1      1985.0      Platform    Nintendo     29.08      3.58      6.81   \n",
       "2      2008.0        Racing    Nintendo     15.85     12.88      3.79   \n",
       "3      2009.0        Sports    Nintendo     15.75     11.01      3.28   \n",
       "4      1996.0  Role-Playing    Nintendo     11.27      8.89     10.22   \n",
       "...       ...           ...         ...       ...       ...       ...   \n",
       "16593  2002.0      Platform       Kemco      0.01      0.00      0.00   \n",
       "16594  2003.0       Shooter  Infogrames      0.01      0.00      0.00   \n",
       "16595  2008.0        Racing  Activision      0.00      0.00      0.00   \n",
       "16596  2010.0        Puzzle    7G//AMES      0.00      0.01      0.00   \n",
       "16597  2003.0      Platform     Wanadoo      0.01      0.00      0.00   \n",
       "\n",
       "       Other_Sales  Global_Sales  \n",
       "0             8.46         82.74  \n",
       "1             0.77         40.24  \n",
       "2             3.31         35.82  \n",
       "3             2.96         33.00  \n",
       "4             1.00         31.37  \n",
       "...            ...           ...  \n",
       "16593         0.00          0.01  \n",
       "16594         0.00          0.01  \n",
       "16595         0.00          0.01  \n",
       "16596         0.00          0.01  \n",
       "16597         0.00          0.01  \n",
       "\n",
       "[16598 rows x 11 columns]"
      ]
     },
     "execution_count": 27,
     "metadata": {},
     "output_type": "execute_result"
    }
   ],
   "source": [
    "data = pd.read_csv(r\"D:\\DATA SCIENCE\\ml-prep\\week-1\\vgsales.csv\")\n",
    "data"
   ]
  },
  {
   "cell_type": "code",
   "execution_count": 16,
   "id": "a1e30d79",
   "metadata": {},
   "outputs": [
    {
     "name": "stdout",
     "output_type": "stream",
     "text": [
      "<class 'pandas.core.frame.DataFrame'>\n",
      "RangeIndex: 16598 entries, 0 to 16597\n",
      "Data columns (total 11 columns):\n",
      " #   Column        Non-Null Count  Dtype  \n",
      "---  ------        --------------  -----  \n",
      " 0   Rank          16598 non-null  int64  \n",
      " 1   Name          16598 non-null  object \n",
      " 2   Platform      16598 non-null  object \n",
      " 3   Year          16327 non-null  float64\n",
      " 4   Genre         16598 non-null  object \n",
      " 5   Publisher     16540 non-null  object \n",
      " 6   NA_Sales      16598 non-null  float64\n",
      " 7   EU_Sales      16598 non-null  float64\n",
      " 8   JP_Sales      16598 non-null  float64\n",
      " 9   Other_Sales   16598 non-null  float64\n",
      " 10  Global_Sales  16598 non-null  float64\n",
      "dtypes: float64(6), int64(1), object(4)\n",
      "memory usage: 1.4+ MB\n"
     ]
    }
   ],
   "source": [
    "data.info()"
   ]
  },
  {
   "cell_type": "code",
   "execution_count": 17,
   "id": "4d094b60",
   "metadata": {},
   "outputs": [
    {
     "data": {
      "text/plain": [
       "(16598, 11)"
      ]
     },
     "execution_count": 17,
     "metadata": {},
     "output_type": "execute_result"
    }
   ],
   "source": [
    "data.shape "
   ]
  },
  {
   "cell_type": "markdown",
   "id": "b21b0f78",
   "metadata": {},
   "source": [
    "## klib.data_cleaning() performs a number of steps, among them:"
   ]
  },
  {
   "cell_type": "markdown",
   "id": "96948a66",
   "metadata": {},
   "source": [
    "### - Cleaning the column names:\n",
    "This unifies the column names by formatting them, splitting, among others, CamelCase into camel_case, removing special characters as well as leading and trailing white-spaces and formatting all column names to lowercase_and_underscore_separated. This also checks for and fixes duplicate column names, which you sometimes get when reading data from a file.\n",
    "\n",
    "Some column name examples:\n",
    "\n",
    "Yards.Gained --> yards_gained\n",
    "\n",
    "PlayAttempted --> play_attempted\n",
    "\n",
    "Challenge.Replay --> challenge_replay\n"
   ]
  },
  {
   "cell_type": "markdown",
   "id": "e6ee01d0",
   "metadata": {},
   "source": [
    "### - Dropping empty and virtually empty columns:\n",
    "You can use the parameters drop_threshold_cols and drop_threshold_rows to adjust the dropping to your needs. The default is to drop columns and rows with more than 90% of the values missing."
   ]
  },
  {
   "cell_type": "markdown",
   "id": "f4abda00",
   "metadata": {},
   "source": [
    "### - Removes single valued columns:\n",
    "As the name states, this removes columns in which each cell contains the same value. This comes in handy when columns such as “year” are included while you’re just looking at a single year. Other examples are “download_date” or indicator variables which are identical for all entries."
   ]
  },
  {
   "cell_type": "markdown",
   "id": "2a97a3ba",
   "metadata": {},
   "source": [
    "### - Drops duplicate rows:\n",
    "This is a straightforward drop of entirely duplicate rows. If you are dealing with data where duplicates add value,\n",
    "\n",
    "consider setting drop_duplicates=False."
   ]
  },
  {
   "cell_type": "markdown",
   "id": "9ee62770",
   "metadata": {},
   "source": [
    "### - Optimizes the datatypes and Memory reduction"
   ]
  },
  {
   "cell_type": "code",
   "execution_count": 18,
   "id": "830725c8",
   "metadata": {},
   "outputs": [
    {
     "name": "stdout",
     "output_type": "stream",
     "text": [
      "Shape of cleaned data: (16598, 11) - Remaining NAs: 329\n",
      "\n",
      "\n",
      "Dropped rows: 0\n",
      "     of which 0 duplicates. (Rows (first 150 shown): [])\n",
      "\n",
      "Dropped columns: 0\n",
      "     of which 0 single valued.     Columns: []\n",
      "Dropped missing values: 0\n",
      "Reduced memory by at least: 0.69 MB (-49.64%)\n",
      "\n"
     ]
    }
   ],
   "source": [
    "df_cleaned = klib.data_cleaning(data)"
   ]
  },
  {
   "cell_type": "code",
   "execution_count": 19,
   "id": "61afc79a",
   "metadata": {},
   "outputs": [
    {
     "data": {
      "text/html": [
       "<div>\n",
       "<style scoped>\n",
       "    .dataframe tbody tr th:only-of-type {\n",
       "        vertical-align: middle;\n",
       "    }\n",
       "\n",
       "    .dataframe tbody tr th {\n",
       "        vertical-align: top;\n",
       "    }\n",
       "\n",
       "    .dataframe thead th {\n",
       "        text-align: right;\n",
       "    }\n",
       "</style>\n",
       "<table border=\"1\" class=\"dataframe\">\n",
       "  <thead>\n",
       "    <tr style=\"text-align: right;\">\n",
       "      <th></th>\n",
       "      <th>rank</th>\n",
       "      <th>name</th>\n",
       "      <th>platform</th>\n",
       "      <th>year</th>\n",
       "      <th>genre</th>\n",
       "      <th>publisher</th>\n",
       "      <th>na_sales</th>\n",
       "      <th>eu_sales</th>\n",
       "      <th>jp_sales</th>\n",
       "      <th>other_sales</th>\n",
       "      <th>global_sales</th>\n",
       "    </tr>\n",
       "  </thead>\n",
       "  <tbody>\n",
       "    <tr>\n",
       "      <th>0</th>\n",
       "      <td>1</td>\n",
       "      <td>Wii Sports</td>\n",
       "      <td>Wii</td>\n",
       "      <td>2006.0</td>\n",
       "      <td>Sports</td>\n",
       "      <td>Nintendo</td>\n",
       "      <td>41.490002</td>\n",
       "      <td>29.02</td>\n",
       "      <td>3.77</td>\n",
       "      <td>8.46</td>\n",
       "      <td>82.739998</td>\n",
       "    </tr>\n",
       "    <tr>\n",
       "      <th>1</th>\n",
       "      <td>2</td>\n",
       "      <td>Super Mario Bros.</td>\n",
       "      <td>NES</td>\n",
       "      <td>1985.0</td>\n",
       "      <td>Platform</td>\n",
       "      <td>Nintendo</td>\n",
       "      <td>29.080000</td>\n",
       "      <td>3.58</td>\n",
       "      <td>6.81</td>\n",
       "      <td>0.77</td>\n",
       "      <td>40.240002</td>\n",
       "    </tr>\n",
       "    <tr>\n",
       "      <th>2</th>\n",
       "      <td>3</td>\n",
       "      <td>Mario Kart Wii</td>\n",
       "      <td>Wii</td>\n",
       "      <td>2008.0</td>\n",
       "      <td>Racing</td>\n",
       "      <td>Nintendo</td>\n",
       "      <td>15.850000</td>\n",
       "      <td>12.88</td>\n",
       "      <td>3.79</td>\n",
       "      <td>3.31</td>\n",
       "      <td>35.820000</td>\n",
       "    </tr>\n",
       "    <tr>\n",
       "      <th>3</th>\n",
       "      <td>4</td>\n",
       "      <td>Wii Sports Resort</td>\n",
       "      <td>Wii</td>\n",
       "      <td>2009.0</td>\n",
       "      <td>Sports</td>\n",
       "      <td>Nintendo</td>\n",
       "      <td>15.750000</td>\n",
       "      <td>11.01</td>\n",
       "      <td>3.28</td>\n",
       "      <td>2.96</td>\n",
       "      <td>33.000000</td>\n",
       "    </tr>\n",
       "    <tr>\n",
       "      <th>4</th>\n",
       "      <td>5</td>\n",
       "      <td>Pokemon Red/Pokemon Blue</td>\n",
       "      <td>GB</td>\n",
       "      <td>1996.0</td>\n",
       "      <td>Role-Playing</td>\n",
       "      <td>Nintendo</td>\n",
       "      <td>11.270000</td>\n",
       "      <td>8.89</td>\n",
       "      <td>10.22</td>\n",
       "      <td>1.00</td>\n",
       "      <td>31.370001</td>\n",
       "    </tr>\n",
       "    <tr>\n",
       "      <th>...</th>\n",
       "      <td>...</td>\n",
       "      <td>...</td>\n",
       "      <td>...</td>\n",
       "      <td>...</td>\n",
       "      <td>...</td>\n",
       "      <td>...</td>\n",
       "      <td>...</td>\n",
       "      <td>...</td>\n",
       "      <td>...</td>\n",
       "      <td>...</td>\n",
       "      <td>...</td>\n",
       "    </tr>\n",
       "    <tr>\n",
       "      <th>16593</th>\n",
       "      <td>16596</td>\n",
       "      <td>Woody Woodpecker in Crazy Castle 5</td>\n",
       "      <td>GBA</td>\n",
       "      <td>2002.0</td>\n",
       "      <td>Platform</td>\n",
       "      <td>Kemco</td>\n",
       "      <td>0.010000</td>\n",
       "      <td>0.00</td>\n",
       "      <td>0.00</td>\n",
       "      <td>0.00</td>\n",
       "      <td>0.010000</td>\n",
       "    </tr>\n",
       "    <tr>\n",
       "      <th>16594</th>\n",
       "      <td>16597</td>\n",
       "      <td>Men in Black II: Alien Escape</td>\n",
       "      <td>GC</td>\n",
       "      <td>2003.0</td>\n",
       "      <td>Shooter</td>\n",
       "      <td>Infogrames</td>\n",
       "      <td>0.010000</td>\n",
       "      <td>0.00</td>\n",
       "      <td>0.00</td>\n",
       "      <td>0.00</td>\n",
       "      <td>0.010000</td>\n",
       "    </tr>\n",
       "    <tr>\n",
       "      <th>16595</th>\n",
       "      <td>16598</td>\n",
       "      <td>SCORE International Baja 1000: The Official Game</td>\n",
       "      <td>PS2</td>\n",
       "      <td>2008.0</td>\n",
       "      <td>Racing</td>\n",
       "      <td>Activision</td>\n",
       "      <td>0.000000</td>\n",
       "      <td>0.00</td>\n",
       "      <td>0.00</td>\n",
       "      <td>0.00</td>\n",
       "      <td>0.010000</td>\n",
       "    </tr>\n",
       "    <tr>\n",
       "      <th>16596</th>\n",
       "      <td>16599</td>\n",
       "      <td>Know How 2</td>\n",
       "      <td>DS</td>\n",
       "      <td>2010.0</td>\n",
       "      <td>Puzzle</td>\n",
       "      <td>7G//AMES</td>\n",
       "      <td>0.000000</td>\n",
       "      <td>0.01</td>\n",
       "      <td>0.00</td>\n",
       "      <td>0.00</td>\n",
       "      <td>0.010000</td>\n",
       "    </tr>\n",
       "    <tr>\n",
       "      <th>16597</th>\n",
       "      <td>16600</td>\n",
       "      <td>Spirits &amp; Spells</td>\n",
       "      <td>GBA</td>\n",
       "      <td>2003.0</td>\n",
       "      <td>Platform</td>\n",
       "      <td>Wanadoo</td>\n",
       "      <td>0.010000</td>\n",
       "      <td>0.00</td>\n",
       "      <td>0.00</td>\n",
       "      <td>0.00</td>\n",
       "      <td>0.010000</td>\n",
       "    </tr>\n",
       "  </tbody>\n",
       "</table>\n",
       "<p>16598 rows × 11 columns</p>\n",
       "</div>"
      ],
      "text/plain": [
       "        rank                                              name platform   \n",
       "0          1                                        Wii Sports      Wii  \\\n",
       "1          2                                 Super Mario Bros.      NES   \n",
       "2          3                                    Mario Kart Wii      Wii   \n",
       "3          4                                 Wii Sports Resort      Wii   \n",
       "4          5                          Pokemon Red/Pokemon Blue       GB   \n",
       "...      ...                                               ...      ...   \n",
       "16593  16596                Woody Woodpecker in Crazy Castle 5      GBA   \n",
       "16594  16597                     Men in Black II: Alien Escape       GC   \n",
       "16595  16598  SCORE International Baja 1000: The Official Game      PS2   \n",
       "16596  16599                                        Know How 2       DS   \n",
       "16597  16600                                  Spirits & Spells      GBA   \n",
       "\n",
       "         year         genre   publisher   na_sales  eu_sales  jp_sales   \n",
       "0      2006.0        Sports    Nintendo  41.490002     29.02      3.77  \\\n",
       "1      1985.0      Platform    Nintendo  29.080000      3.58      6.81   \n",
       "2      2008.0        Racing    Nintendo  15.850000     12.88      3.79   \n",
       "3      2009.0        Sports    Nintendo  15.750000     11.01      3.28   \n",
       "4      1996.0  Role-Playing    Nintendo  11.270000      8.89     10.22   \n",
       "...       ...           ...         ...        ...       ...       ...   \n",
       "16593  2002.0      Platform       Kemco   0.010000      0.00      0.00   \n",
       "16594  2003.0       Shooter  Infogrames   0.010000      0.00      0.00   \n",
       "16595  2008.0        Racing  Activision   0.000000      0.00      0.00   \n",
       "16596  2010.0        Puzzle    7G//AMES   0.000000      0.01      0.00   \n",
       "16597  2003.0      Platform     Wanadoo   0.010000      0.00      0.00   \n",
       "\n",
       "       other_sales  global_sales  \n",
       "0             8.46     82.739998  \n",
       "1             0.77     40.240002  \n",
       "2             3.31     35.820000  \n",
       "3             2.96     33.000000  \n",
       "4             1.00     31.370001  \n",
       "...            ...           ...  \n",
       "16593         0.00      0.010000  \n",
       "16594         0.00      0.010000  \n",
       "16595         0.00      0.010000  \n",
       "16596         0.00      0.010000  \n",
       "16597         0.00      0.010000  \n",
       "\n",
       "[16598 rows x 11 columns]"
      ]
     },
     "execution_count": 19,
     "metadata": {},
     "output_type": "execute_result"
    }
   ],
   "source": [
    "df_cleaned"
   ]
  },
  {
   "cell_type": "code",
   "execution_count": 20,
   "id": "284c899a",
   "metadata": {},
   "outputs": [
    {
     "name": "stdout",
     "output_type": "stream",
     "text": [
      "<class 'pandas.core.frame.DataFrame'>\n",
      "RangeIndex: 16598 entries, 0 to 16597\n",
      "Data columns (total 11 columns):\n",
      " #   Column        Non-Null Count  Dtype   \n",
      "---  ------        --------------  -----   \n",
      " 0   rank          16598 non-null  int16   \n",
      " 1   name          16598 non-null  string  \n",
      " 2   platform      16598 non-null  category\n",
      " 3   year          16327 non-null  float32 \n",
      " 4   genre         16598 non-null  category\n",
      " 5   publisher     16540 non-null  string  \n",
      " 6   na_sales      16598 non-null  float32 \n",
      " 7   eu_sales      16598 non-null  float32 \n",
      " 8   jp_sales      16598 non-null  float32 \n",
      " 9   other_sales   16598 non-null  float32 \n",
      " 10  global_sales  16598 non-null  float32 \n",
      "dtypes: category(2), float32(6), int16(1), string(2)\n",
      "memory usage: 715.0 KB\n"
     ]
    }
   ],
   "source": [
    "df_cleaned.info()"
   ]
  },
  {
   "cell_type": "code",
   "execution_count": 21,
   "id": "fb9c808d",
   "metadata": {},
   "outputs": [
    {
     "data": {
      "text/plain": [
       "GridSpec(6, 6)"
      ]
     },
     "execution_count": 21,
     "metadata": {},
     "output_type": "execute_result"
    },
    {
     "data": {
      "image/png": "[encoded data removed]",
      "text/plain": [
       "<Figure size 1440x1440 with 4 Axes>"
      ]
     },
     "metadata": {
      "needs_background": "light"
     },
     "output_type": "display_data"
    }
   ],
   "source": [
    "klib.missingval_plot(df_cleaned)"
   ]
  },
  {
   "cell_type": "code",
   "execution_count": 22,
   "id": "696759f7",
   "metadata": {},
   "outputs": [
    {
     "data": {
      "text/html": [
       "<div>\n",
       "<style scoped>\n",
       "    .dataframe tbody tr th:only-of-type {\n",
       "        vertical-align: middle;\n",
       "    }\n",
       "\n",
       "    .dataframe tbody tr th {\n",
       "        vertical-align: top;\n",
       "    }\n",
       "\n",
       "    .dataframe thead th {\n",
       "        text-align: right;\n",
       "    }\n",
       "</style>\n",
       "<table border=\"1\" class=\"dataframe\">\n",
       "  <thead>\n",
       "    <tr style=\"text-align: right;\">\n",
       "      <th></th>\n",
       "      <th>rank</th>\n",
       "      <th>name</th>\n",
       "      <th>platform</th>\n",
       "      <th>year</th>\n",
       "      <th>genre</th>\n",
       "      <th>publisher</th>\n",
       "      <th>na_sales</th>\n",
       "      <th>eu_sales</th>\n",
       "      <th>jp_sales</th>\n",
       "      <th>other_sales</th>\n",
       "      <th>global_sales</th>\n",
       "    </tr>\n",
       "  </thead>\n",
       "  <tbody>\n",
       "    <tr>\n",
       "      <th>0</th>\n",
       "      <td>1</td>\n",
       "      <td>Wii Sports</td>\n",
       "      <td>Wii</td>\n",
       "      <td>2006.0</td>\n",
       "      <td>Sports</td>\n",
       "      <td>Nintendo</td>\n",
       "      <td>41.490002</td>\n",
       "      <td>29.02</td>\n",
       "      <td>3.77</td>\n",
       "      <td>8.46</td>\n",
       "      <td>82.739998</td>\n",
       "    </tr>\n",
       "    <tr>\n",
       "      <th>1</th>\n",
       "      <td>2</td>\n",
       "      <td>Super Mario Bros.</td>\n",
       "      <td>NES</td>\n",
       "      <td>1985.0</td>\n",
       "      <td>Platform</td>\n",
       "      <td>Nintendo</td>\n",
       "      <td>29.080000</td>\n",
       "      <td>3.58</td>\n",
       "      <td>6.81</td>\n",
       "      <td>0.77</td>\n",
       "      <td>40.240002</td>\n",
       "    </tr>\n",
       "    <tr>\n",
       "      <th>2</th>\n",
       "      <td>3</td>\n",
       "      <td>Mario Kart Wii</td>\n",
       "      <td>Wii</td>\n",
       "      <td>2008.0</td>\n",
       "      <td>Racing</td>\n",
       "      <td>Nintendo</td>\n",
       "      <td>15.850000</td>\n",
       "      <td>12.88</td>\n",
       "      <td>3.79</td>\n",
       "      <td>3.31</td>\n",
       "      <td>35.820000</td>\n",
       "    </tr>\n",
       "    <tr>\n",
       "      <th>3</th>\n",
       "      <td>4</td>\n",
       "      <td>Wii Sports Resort</td>\n",
       "      <td>Wii</td>\n",
       "      <td>2009.0</td>\n",
       "      <td>Sports</td>\n",
       "      <td>Nintendo</td>\n",
       "      <td>15.750000</td>\n",
       "      <td>11.01</td>\n",
       "      <td>3.28</td>\n",
       "      <td>2.96</td>\n",
       "      <td>33.000000</td>\n",
       "    </tr>\n",
       "    <tr>\n",
       "      <th>4</th>\n",
       "      <td>5</td>\n",
       "      <td>Pokemon Red/Pokemon Blue</td>\n",
       "      <td>GB</td>\n",
       "      <td>1996.0</td>\n",
       "      <td>Role-Playing</td>\n",
       "      <td>Nintendo</td>\n",
       "      <td>11.270000</td>\n",
       "      <td>8.89</td>\n",
       "      <td>10.22</td>\n",
       "      <td>1.00</td>\n",
       "      <td>31.370001</td>\n",
       "    </tr>\n",
       "    <tr>\n",
       "      <th>...</th>\n",
       "      <td>...</td>\n",
       "      <td>...</td>\n",
       "      <td>...</td>\n",
       "      <td>...</td>\n",
       "      <td>...</td>\n",
       "      <td>...</td>\n",
       "      <td>...</td>\n",
       "      <td>...</td>\n",
       "      <td>...</td>\n",
       "      <td>...</td>\n",
       "      <td>...</td>\n",
       "    </tr>\n",
       "    <tr>\n",
       "      <th>16593</th>\n",
       "      <td>16596</td>\n",
       "      <td>Woody Woodpecker in Crazy Castle 5</td>\n",
       "      <td>GBA</td>\n",
       "      <td>2002.0</td>\n",
       "      <td>Platform</td>\n",
       "      <td>Kemco</td>\n",
       "      <td>0.010000</td>\n",
       "      <td>0.00</td>\n",
       "      <td>0.00</td>\n",
       "      <td>0.00</td>\n",
       "      <td>0.010000</td>\n",
       "    </tr>\n",
       "    <tr>\n",
       "      <th>16594</th>\n",
       "      <td>16597</td>\n",
       "      <td>Men in Black II: Alien Escape</td>\n",
       "      <td>GC</td>\n",
       "      <td>2003.0</td>\n",
       "      <td>Shooter</td>\n",
       "      <td>Infogrames</td>\n",
       "      <td>0.010000</td>\n",
       "      <td>0.00</td>\n",
       "      <td>0.00</td>\n",
       "      <td>0.00</td>\n",
       "      <td>0.010000</td>\n",
       "    </tr>\n",
       "    <tr>\n",
       "      <th>16595</th>\n",
       "      <td>16598</td>\n",
       "      <td>SCORE International Baja 1000: The Official Game</td>\n",
       "      <td>PS2</td>\n",
       "      <td>2008.0</td>\n",
       "      <td>Racing</td>\n",
       "      <td>Activision</td>\n",
       "      <td>0.000000</td>\n",
       "      <td>0.00</td>\n",
       "      <td>0.00</td>\n",
       "      <td>0.00</td>\n",
       "      <td>0.010000</td>\n",
       "    </tr>\n",
       "    <tr>\n",
       "      <th>16596</th>\n",
       "      <td>16599</td>\n",
       "      <td>Know How 2</td>\n",
       "      <td>DS</td>\n",
       "      <td>2010.0</td>\n",
       "      <td>Puzzle</td>\n",
       "      <td>7G//AMES</td>\n",
       "      <td>0.000000</td>\n",
       "      <td>0.01</td>\n",
       "      <td>0.00</td>\n",
       "      <td>0.00</td>\n",
       "      <td>0.010000</td>\n",
       "    </tr>\n",
       "    <tr>\n",
       "      <th>16597</th>\n",
       "      <td>16600</td>\n",
       "      <td>Spirits &amp; Spells</td>\n",
       "      <td>GBA</td>\n",
       "      <td>2003.0</td>\n",
       "      <td>Platform</td>\n",
       "      <td>Wanadoo</td>\n",
       "      <td>0.010000</td>\n",
       "      <td>0.00</td>\n",
       "      <td>0.00</td>\n",
       "      <td>0.00</td>\n",
       "      <td>0.010000</td>\n",
       "    </tr>\n",
       "  </tbody>\n",
       "</table>\n",
       "<p>16598 rows × 11 columns</p>\n",
       "</div>"
      ],
      "text/plain": [
       "        rank                                              name platform   \n",
       "0          1                                        Wii Sports      Wii  \\\n",
       "1          2                                 Super Mario Bros.      NES   \n",
       "2          3                                    Mario Kart Wii      Wii   \n",
       "3          4                                 Wii Sports Resort      Wii   \n",
       "4          5                          Pokemon Red/Pokemon Blue       GB   \n",
       "...      ...                                               ...      ...   \n",
       "16593  16596                Woody Woodpecker in Crazy Castle 5      GBA   \n",
       "16594  16597                     Men in Black II: Alien Escape       GC   \n",
       "16595  16598  SCORE International Baja 1000: The Official Game      PS2   \n",
       "16596  16599                                        Know How 2       DS   \n",
       "16597  16600                                  Spirits & Spells      GBA   \n",
       "\n",
       "         year         genre   publisher   na_sales  eu_sales  jp_sales   \n",
       "0      2006.0        Sports    Nintendo  41.490002     29.02      3.77  \\\n",
       "1      1985.0      Platform    Nintendo  29.080000      3.58      6.81   \n",
       "2      2008.0        Racing    Nintendo  15.850000     12.88      3.79   \n",
       "3      2009.0        Sports    Nintendo  15.750000     11.01      3.28   \n",
       "4      1996.0  Role-Playing    Nintendo  11.270000      8.89     10.22   \n",
       "...       ...           ...         ...        ...       ...       ...   \n",
       "16593  2002.0      Platform       Kemco   0.010000      0.00      0.00   \n",
       "16594  2003.0       Shooter  Infogrames   0.010000      0.00      0.00   \n",
       "16595  2008.0        Racing  Activision   0.000000      0.00      0.00   \n",
       "16596  2010.0        Puzzle    7G//AMES   0.000000      0.01      0.00   \n",
       "16597  2003.0      Platform     Wanadoo   0.010000      0.00      0.00   \n",
       "\n",
       "       other_sales  global_sales  \n",
       "0             8.46     82.739998  \n",
       "1             0.77     40.240002  \n",
       "2             3.31     35.820000  \n",
       "3             2.96     33.000000  \n",
       "4             1.00     31.370001  \n",
       "...            ...           ...  \n",
       "16593         0.00      0.010000  \n",
       "16594         0.00      0.010000  \n",
       "16595         0.00      0.010000  \n",
       "16596         0.00      0.010000  \n",
       "16597         0.00      0.010000  \n",
       "\n",
       "[16598 rows x 11 columns]"
      ]
     },
     "execution_count": 22,
     "metadata": {},
     "output_type": "execute_result"
    }
   ],
   "source": [
    "klib.clean_column_names(df_cleaned)"
   ]
  },
  {
   "cell_type": "code",
   "execution_count": 23,
   "id": "9ac65251",
   "metadata": {},
   "outputs": [
    {
     "data": {
      "text/html": [
       "<div>\n",
       "<style scoped>\n",
       "    .dataframe tbody tr th:only-of-type {\n",
       "        vertical-align: middle;\n",
       "    }\n",
       "\n",
       "    .dataframe tbody tr th {\n",
       "        vertical-align: top;\n",
       "    }\n",
       "\n",
       "    .dataframe thead th {\n",
       "        text-align: right;\n",
       "    }\n",
       "</style>\n",
       "<table border=\"1\" class=\"dataframe\">\n",
       "  <thead>\n",
       "    <tr style=\"text-align: right;\">\n",
       "      <th></th>\n",
       "      <th>rank</th>\n",
       "      <th>name</th>\n",
       "      <th>genre</th>\n",
       "      <th>publisher</th>\n",
       "      <th>pooled_vars</th>\n",
       "    </tr>\n",
       "  </thead>\n",
       "  <tbody>\n",
       "    <tr>\n",
       "      <th>0</th>\n",
       "      <td>1</td>\n",
       "      <td>Wii Sports</td>\n",
       "      <td>Sports</td>\n",
       "      <td>Nintendo</td>\n",
       "      <td>0</td>\n",
       "    </tr>\n",
       "    <tr>\n",
       "      <th>1</th>\n",
       "      <td>2</td>\n",
       "      <td>Super Mario Bros.</td>\n",
       "      <td>Platform</td>\n",
       "      <td>Nintendo</td>\n",
       "      <td>1</td>\n",
       "    </tr>\n",
       "    <tr>\n",
       "      <th>2</th>\n",
       "      <td>3</td>\n",
       "      <td>Mario Kart Wii</td>\n",
       "      <td>Racing</td>\n",
       "      <td>Nintendo</td>\n",
       "      <td>2</td>\n",
       "    </tr>\n",
       "    <tr>\n",
       "      <th>3</th>\n",
       "      <td>4</td>\n",
       "      <td>Wii Sports Resort</td>\n",
       "      <td>Sports</td>\n",
       "      <td>Nintendo</td>\n",
       "      <td>3</td>\n",
       "    </tr>\n",
       "    <tr>\n",
       "      <th>4</th>\n",
       "      <td>5</td>\n",
       "      <td>Pokemon Red/Pokemon Blue</td>\n",
       "      <td>Role-Playing</td>\n",
       "      <td>Nintendo</td>\n",
       "      <td>4</td>\n",
       "    </tr>\n",
       "    <tr>\n",
       "      <th>...</th>\n",
       "      <td>...</td>\n",
       "      <td>...</td>\n",
       "      <td>...</td>\n",
       "      <td>...</td>\n",
       "      <td>...</td>\n",
       "    </tr>\n",
       "    <tr>\n",
       "      <th>16593</th>\n",
       "      <td>16596</td>\n",
       "      <td>Woody Woodpecker in Crazy Castle 5</td>\n",
       "      <td>Platform</td>\n",
       "      <td>Kemco</td>\n",
       "      <td>16085</td>\n",
       "    </tr>\n",
       "    <tr>\n",
       "      <th>16594</th>\n",
       "      <td>16597</td>\n",
       "      <td>Men in Black II: Alien Escape</td>\n",
       "      <td>Shooter</td>\n",
       "      <td>Infogrames</td>\n",
       "      <td>16249</td>\n",
       "    </tr>\n",
       "    <tr>\n",
       "      <th>16595</th>\n",
       "      <td>16598</td>\n",
       "      <td>SCORE International Baja 1000: The Official Game</td>\n",
       "      <td>Racing</td>\n",
       "      <td>Activision</td>\n",
       "      <td>16595</td>\n",
       "    </tr>\n",
       "    <tr>\n",
       "      <th>16596</th>\n",
       "      <td>16599</td>\n",
       "      <td>Know How 2</td>\n",
       "      <td>Puzzle</td>\n",
       "      <td>7G//AMES</td>\n",
       "      <td>16328</td>\n",
       "    </tr>\n",
       "    <tr>\n",
       "      <th>16597</th>\n",
       "      <td>16600</td>\n",
       "      <td>Spirits &amp; Spells</td>\n",
       "      <td>Platform</td>\n",
       "      <td>Wanadoo</td>\n",
       "      <td>15987</td>\n",
       "    </tr>\n",
       "  </tbody>\n",
       "</table>\n",
       "<p>16598 rows × 5 columns</p>\n",
       "</div>"
      ],
      "text/plain": [
       "        rank                                              name         genre   \n",
       "0          1                                        Wii Sports        Sports  \\\n",
       "1          2                                 Super Mario Bros.      Platform   \n",
       "2          3                                    Mario Kart Wii        Racing   \n",
       "3          4                                 Wii Sports Resort        Sports   \n",
       "4          5                          Pokemon Red/Pokemon Blue  Role-Playing   \n",
       "...      ...                                               ...           ...   \n",
       "16593  16596                Woody Woodpecker in Crazy Castle 5      Platform   \n",
       "16594  16597                     Men in Black II: Alien Escape       Shooter   \n",
       "16595  16598  SCORE International Baja 1000: The Official Game        Racing   \n",
       "16596  16599                                        Know How 2        Puzzle   \n",
       "16597  16600                                  Spirits & Spells      Platform   \n",
       "\n",
       "        publisher  pooled_vars  \n",
       "0        Nintendo            0  \n",
       "1        Nintendo            1  \n",
       "2        Nintendo            2  \n",
       "3        Nintendo            3  \n",
       "4        Nintendo            4  \n",
       "...           ...          ...  \n",
       "16593       Kemco        16085  \n",
       "16594  Infogrames        16249  \n",
       "16595  Activision        16595  \n",
       "16596    7G//AMES        16328  \n",
       "16597     Wanadoo        15987  \n",
       "\n",
       "[16598 rows x 5 columns]"
      ]
     },
     "execution_count": 23,
     "metadata": {},
     "output_type": "execute_result"
    }
   ],
   "source": [
    "klib.pool_duplicate_subsets(df_cleaned)"
   ]
  },
  {
   "cell_type": "markdown",
   "id": "ca7d8ed6",
   "metadata": {},
   "source": [
    "- klib.drop_missing() \n",
    "drops missing values, also called in \".data_cleaning()\"\n",
    " \n",
    "- klib.mv_col_handling()\n",
    " drops features with a high ratio of missing values based on their informational content\n",
    " \n",
    "- klib.pool_duplicate_subsets() \n",
    "pools a subset of columns based on duplicate values with minimal loss of information"
   ]
  },
  {
   "cell_type": "markdown",
   "id": "2e0f641b",
   "metadata": {},
   "source": [
    "# klib.describe - functions for visualizing datasets\n",
    "- klib.cat_plot(df) \n",
    "visualization of the number and frequency of categorical features\n"
   ]
  },
  {
   "cell_type": "code",
   "execution_count": 18,
   "id": "72e3dac4",
   "metadata": {},
   "outputs": [
    {
     "data": {
      "text/plain": [
       "GridSpec(6, 4)"
      ]
     },
     "execution_count": 18,
     "metadata": {},
     "output_type": "execute_result"
    },
    {
     "data": {
      "image/png": "[encoded data removed]",
      "text/plain": [
       "<Figure size 1296x1296 with 9 Axes>"
      ]
     },
     "metadata": {
      "needs_background": "light"
     },
     "output_type": "display_data"
    }
   ],
   "source": [
    "klib.cat_plot(df_cleaned)"
   ]
  },
  {
   "cell_type": "markdown",
   "id": "9e40c9e3",
   "metadata": {},
   "source": [
    "# Display all correlations data"
   ]
  },
  {
   "cell_type": "code",
   "execution_count": 24,
   "id": "90fea6fa",
   "metadata": {},
   "outputs": [
    {
     "data": {
      "text/plain": [
       "<AxesSubplot:title={'center':'Feature-correlation (pearson)'}>"
      ]
     },
     "execution_count": 24,
     "metadata": {},
     "output_type": "execute_result"
    },
    {
     "data": {
      "image/png": "[encoded data removed]",
      "text/plain": [
       "<Figure size 864x720 with 2 Axes>"
      ]
     },
     "metadata": {
      "needs_background": "light"
     },
     "output_type": "display_data"
    }
   ],
   "source": [
    "klib.corr_plot(df_cleaned, annot=False)"
   ]
  },
  {
   "cell_type": "markdown",
   "id": "17f9053e",
   "metadata": {},
   "source": [
    "# Display only positive correlation"
   ]
  },
  {
   "cell_type": "code",
   "execution_count": 25,
   "id": "359d29a3",
   "metadata": {},
   "outputs": [
    {
     "name": "stdout",
     "output_type": "stream",
     "text": [
      "Displaying positive correlations. Specify a positive \"threshold\" to limit the results further.\n"
     ]
    },
    {
     "data": {
      "text/plain": [
       "<AxesSubplot:title={'center':'Feature-correlation (pearson)'}>"
      ]
     },
     "execution_count": 25,
     "metadata": {},
     "output_type": "execute_result"
    },
    {
     "data": {
      "image/png": "[encoded data removed]",
      "text/plain": [
       "<Figure size 864x720 with 2 Axes>"
      ]
     },
     "metadata": {
      "needs_background": "light"
     },
     "output_type": "display_data"
    }
   ],
   "source": [
    "klib.corr_plot(df_cleaned, split='pos', annot=False)"
   ]
  },
  {
   "cell_type": "markdown",
   "id": "c13ededa",
   "metadata": {},
   "source": [
    "# Display only negative correlation."
   ]
  },
  {
   "cell_type": "code",
   "execution_count": 26,
   "id": "1db1c28e",
   "metadata": {},
   "outputs": [
    {
     "name": "stdout",
     "output_type": "stream",
     "text": [
      "Displaying negative correlations. Specify a negative \"threshold\" to limit the results further.\n"
     ]
    },
    {
     "data": {
      "text/plain": [
       "<AxesSubplot:title={'center':'Feature-correlation (pearson)'}>"
      ]
     },
     "execution_count": 26,
     "metadata": {},
     "output_type": "execute_result"
    },
    {
     "data": {
      "image/png": "[encoded data removed]",
      "text/plain": [
       "<Figure size 864x720 with 2 Axes>"
      ]
     },
     "metadata": {
      "needs_background": "light"
     },
     "output_type": "display_data"
    }
   ],
   "source": [
    "klib.corr_plot(df_cleaned, split='neg', annot=False)"
   ]
  },
  {
   "cell_type": "markdown",
   "id": "7929600f",
   "metadata": {},
   "source": [
    "# Display correlation with a target variable of interest"
   ]
  },
  {
   "cell_type": "code",
   "execution_count": 28,
   "id": "09a01c7c",
   "metadata": {},
   "outputs": [
    {
     "data": {
      "text/plain": [
       "<AxesSubplot:title={'center':'Feature-correlation (pearson)'}>"
      ]
     },
     "execution_count": 28,
     "metadata": {},
     "output_type": "execute_result"
    },
    {
     "data": {
      "image/png": "[encoded data removed]",
      "text/plain": [
       "<Figure size 864x720 with 2 Axes>"
      ]
     },
     "metadata": {
      "needs_background": "light"
     },
     "output_type": "display_data"
    }
   ],
   "source": [
    "klib.corr_plot(df_cleaned, target='global_sales')"
   ]
  },
  {
   "cell_type": "markdown",
   "id": "c091af44",
   "metadata": {},
   "source": [
    "# Correlation data matrix"
   ]
  },
  {
   "cell_type": "code",
   "execution_count": 29,
   "id": "38fdaef6",
   "metadata": {},
   "outputs": [
    {
     "data": {
      "text/html": [
       "<style type=\"text/css\">\n",
       "#T_cff2f_row0_col0, #T_cff2f_row0_col1, #T_cff2f_row1_col0, #T_cff2f_row1_col1, #T_cff2f_row1_col3, #T_cff2f_row1_col5, #T_cff2f_row2_col2, #T_cff2f_row2_col3, #T_cff2f_row2_col4, #T_cff2f_row2_col5, #T_cff2f_row2_col6, #T_cff2f_row3_col1, #T_cff2f_row3_col2, #T_cff2f_row3_col3, #T_cff2f_row3_col4, #T_cff2f_row3_col5, #T_cff2f_row3_col6, #T_cff2f_row4_col2, #T_cff2f_row4_col3, #T_cff2f_row4_col4, #T_cff2f_row4_col5, #T_cff2f_row4_col6, #T_cff2f_row5_col1, #T_cff2f_row5_col2, #T_cff2f_row5_col3, #T_cff2f_row5_col4, #T_cff2f_row5_col5, #T_cff2f_row5_col6, #T_cff2f_row6_col2, #T_cff2f_row6_col3, #T_cff2f_row6_col4, #T_cff2f_row6_col5, #T_cff2f_row6_col6 {\n",
       "  color: None;\n",
       "}\n",
       "#T_cff2f_row0_col2, #T_cff2f_row0_col3, #T_cff2f_row0_col4, #T_cff2f_row0_col5, #T_cff2f_row0_col6, #T_cff2f_row1_col2, #T_cff2f_row1_col4, #T_cff2f_row1_col6, #T_cff2f_row2_col0, #T_cff2f_row2_col1, #T_cff2f_row3_col0, #T_cff2f_row4_col0, #T_cff2f_row4_col1, #T_cff2f_row5_col0, #T_cff2f_row6_col0, #T_cff2f_row6_col1 {\n",
       "  color: #FF3344;\n",
       "}\n",
       "</style>\n",
       "<table id=\"T_cff2f\">\n",
       "  <thead>\n",
       "    <tr>\n",
       "      <th class=\"blank level0\" >&nbsp;</th>\n",
       "      <th id=\"T_cff2f_level0_col0\" class=\"col_heading level0 col0\" >rank</th>\n",
       "      <th id=\"T_cff2f_level0_col1\" class=\"col_heading level0 col1\" >year</th>\n",
       "      <th id=\"T_cff2f_level0_col2\" class=\"col_heading level0 col2\" >na_sales</th>\n",
       "      <th id=\"T_cff2f_level0_col3\" class=\"col_heading level0 col3\" >eu_sales</th>\n",
       "      <th id=\"T_cff2f_level0_col4\" class=\"col_heading level0 col4\" >jp_sales</th>\n",
       "      <th id=\"T_cff2f_level0_col5\" class=\"col_heading level0 col5\" >other_sales</th>\n",
       "      <th id=\"T_cff2f_level0_col6\" class=\"col_heading level0 col6\" >global_sales</th>\n",
       "    </tr>\n",
       "  </thead>\n",
       "  <tbody>\n",
       "    <tr>\n",
       "      <th id=\"T_cff2f_level0_row0\" class=\"row_heading level0 row0\" >rank</th>\n",
       "      <td id=\"T_cff2f_row0_col0\" class=\"data row0 col0\" >1.00</td>\n",
       "      <td id=\"T_cff2f_row0_col1\" class=\"data row0 col1\" >0.18</td>\n",
       "      <td id=\"T_cff2f_row0_col2\" class=\"data row0 col2\" >-0.40</td>\n",
       "      <td id=\"T_cff2f_row0_col3\" class=\"data row0 col3\" >-0.38</td>\n",
       "      <td id=\"T_cff2f_row0_col4\" class=\"data row0 col4\" >-0.27</td>\n",
       "      <td id=\"T_cff2f_row0_col5\" class=\"data row0 col5\" >-0.33</td>\n",
       "      <td id=\"T_cff2f_row0_col6\" class=\"data row0 col6\" >-0.43</td>\n",
       "    </tr>\n",
       "    <tr>\n",
       "      <th id=\"T_cff2f_level0_row1\" class=\"row_heading level0 row1\" >year</th>\n",
       "      <td id=\"T_cff2f_row1_col0\" class=\"data row1 col0\" >0.18</td>\n",
       "      <td id=\"T_cff2f_row1_col1\" class=\"data row1 col1\" >1.00</td>\n",
       "      <td id=\"T_cff2f_row1_col2\" class=\"data row1 col2\" >-0.09</td>\n",
       "      <td id=\"T_cff2f_row1_col3\" class=\"data row1 col3\" >0.01</td>\n",
       "      <td id=\"T_cff2f_row1_col4\" class=\"data row1 col4\" >-0.17</td>\n",
       "      <td id=\"T_cff2f_row1_col5\" class=\"data row1 col5\" >0.04</td>\n",
       "      <td id=\"T_cff2f_row1_col6\" class=\"data row1 col6\" >-0.07</td>\n",
       "    </tr>\n",
       "    <tr>\n",
       "      <th id=\"T_cff2f_level0_row2\" class=\"row_heading level0 row2\" >na_sales</th>\n",
       "      <td id=\"T_cff2f_row2_col0\" class=\"data row2 col0\" >-0.40</td>\n",
       "      <td id=\"T_cff2f_row2_col1\" class=\"data row2 col1\" >-0.09</td>\n",
       "      <td id=\"T_cff2f_row2_col2\" class=\"data row2 col2\" >1.00</td>\n",
       "      <td id=\"T_cff2f_row2_col3\" class=\"data row2 col3\" >0.77</td>\n",
       "      <td id=\"T_cff2f_row2_col4\" class=\"data row2 col4\" >0.45</td>\n",
       "      <td id=\"T_cff2f_row2_col5\" class=\"data row2 col5\" >0.63</td>\n",
       "      <td id=\"T_cff2f_row2_col6\" class=\"data row2 col6\" >0.94</td>\n",
       "    </tr>\n",
       "    <tr>\n",
       "      <th id=\"T_cff2f_level0_row3\" class=\"row_heading level0 row3\" >eu_sales</th>\n",
       "      <td id=\"T_cff2f_row3_col0\" class=\"data row3 col0\" >-0.38</td>\n",
       "      <td id=\"T_cff2f_row3_col1\" class=\"data row3 col1\" >0.01</td>\n",
       "      <td id=\"T_cff2f_row3_col2\" class=\"data row3 col2\" >0.77</td>\n",
       "      <td id=\"T_cff2f_row3_col3\" class=\"data row3 col3\" >1.00</td>\n",
       "      <td id=\"T_cff2f_row3_col4\" class=\"data row3 col4\" >0.44</td>\n",
       "      <td id=\"T_cff2f_row3_col5\" class=\"data row3 col5\" >0.73</td>\n",
       "      <td id=\"T_cff2f_row3_col6\" class=\"data row3 col6\" >0.90</td>\n",
       "    </tr>\n",
       "    <tr>\n",
       "      <th id=\"T_cff2f_level0_row4\" class=\"row_heading level0 row4\" >jp_sales</th>\n",
       "      <td id=\"T_cff2f_row4_col0\" class=\"data row4 col0\" >-0.27</td>\n",
       "      <td id=\"T_cff2f_row4_col1\" class=\"data row4 col1\" >-0.17</td>\n",
       "      <td id=\"T_cff2f_row4_col2\" class=\"data row4 col2\" >0.45</td>\n",
       "      <td id=\"T_cff2f_row4_col3\" class=\"data row4 col3\" >0.44</td>\n",
       "      <td id=\"T_cff2f_row4_col4\" class=\"data row4 col4\" >1.00</td>\n",
       "      <td id=\"T_cff2f_row4_col5\" class=\"data row4 col5\" >0.29</td>\n",
       "      <td id=\"T_cff2f_row4_col6\" class=\"data row4 col6\" >0.61</td>\n",
       "    </tr>\n",
       "    <tr>\n",
       "      <th id=\"T_cff2f_level0_row5\" class=\"row_heading level0 row5\" >other_sales</th>\n",
       "      <td id=\"T_cff2f_row5_col0\" class=\"data row5 col0\" >-0.33</td>\n",
       "      <td id=\"T_cff2f_row5_col1\" class=\"data row5 col1\" >0.04</td>\n",
       "      <td id=\"T_cff2f_row5_col2\" class=\"data row5 col2\" >0.63</td>\n",
       "      <td id=\"T_cff2f_row5_col3\" class=\"data row5 col3\" >0.73</td>\n",
       "      <td id=\"T_cff2f_row5_col4\" class=\"data row5 col4\" >0.29</td>\n",
       "      <td id=\"T_cff2f_row5_col5\" class=\"data row5 col5\" >1.00</td>\n",
       "      <td id=\"T_cff2f_row5_col6\" class=\"data row5 col6\" >0.75</td>\n",
       "    </tr>\n",
       "    <tr>\n",
       "      <th id=\"T_cff2f_level0_row6\" class=\"row_heading level0 row6\" >global_sales</th>\n",
       "      <td id=\"T_cff2f_row6_col0\" class=\"data row6 col0\" >-0.43</td>\n",
       "      <td id=\"T_cff2f_row6_col1\" class=\"data row6 col1\" >-0.07</td>\n",
       "      <td id=\"T_cff2f_row6_col2\" class=\"data row6 col2\" >0.94</td>\n",
       "      <td id=\"T_cff2f_row6_col3\" class=\"data row6 col3\" >0.90</td>\n",
       "      <td id=\"T_cff2f_row6_col4\" class=\"data row6 col4\" >0.61</td>\n",
       "      <td id=\"T_cff2f_row6_col5\" class=\"data row6 col5\" >0.75</td>\n",
       "      <td id=\"T_cff2f_row6_col6\" class=\"data row6 col6\" >1.00</td>\n",
       "    </tr>\n",
       "  </tbody>\n",
       "</table>\n"
      ],
      "text/plain": [
       "<pandas.io.formats.style.Styler at 0x1bc84f3a070>"
      ]
     },
     "execution_count": 29,
     "metadata": {},
     "output_type": "execute_result"
    }
   ],
   "source": [
    "klib.corr_mat(df_cleaned)"
   ]
  },
  {
   "cell_type": "code",
   "execution_count": null,
   "id": "883f71eb",
   "metadata": {},
   "outputs": [],
   "source": []
  }
 ],
 "metadata": {
  "kernelspec": {
   "display_name": "Python 3 (ipykernel)",
   "language": "python",
   "name": "python3"
  },
  "language_info": {
   "codemirror_mode": {
    "name": "ipython",
    "version": 3
   },
   "file_extension": ".py",
   "mimetype": "text/x-python",
   "name": "python",
   "nbconvert_exporter": "python",
   "pygments_lexer": "ipython3",
   "version": "3.9.12"
  }
 },
 "nbformat": 4,
 "nbformat_minor": 5
}
