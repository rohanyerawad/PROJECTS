{
 "cells": [
  {
   "cell_type": "markdown",
   "id": "9b3f9fa9",
   "metadata": {},
   "source": [
    "# Mahesh Mane -226515\n",
    "# Rohan Yarawad-226519"
   ]
  },
  {
   "cell_type": "markdown",
   "id": "65761556",
   "metadata": {},
   "source": [
    "# Predict Stock Prices Using Random Forest Regression Model"
   ]
  },
  {
   "cell_type": "markdown",
   "id": "a6a98977",
   "metadata": {},
   "source": [
    "- Pandas — a python library that loads the data file as a pandas data frame for analyzing the data.\n",
    "- Matplotlib— a python package for plotting graphs.\n",
    "- Scikit-learn — an open-source python library used in data analysis that supports machine learning models, pre-processing, model evaluation, and training utilities. It also acts as a sub-library for train_test_split, RandomForestRegressor, StandardScaler, RandomizedSearchCV, and metrics.\n",
    "- Numpy— a python library that works with arrays.\n",
    "- Yfinance — a python open-source library used to access financial data."
   ]
  },
  {
   "cell_type": "code",
   "execution_count": 219,
   "id": "40341912",
   "metadata": {},
   "outputs": [],
   "source": [
    "from pandas_datareader import data as pdr\n",
    "import pandas as pd\n",
    "import numpy as np\n",
    "import seaborn as sns\n",
    "import matplotlib.pyplot as plt\n",
    "from sklearn import metrics\n",
    "from sklearn.preprocessing import MinMaxScaler\n",
    "from sklearn.model_selection import train_test_split\n",
    "from sklearn.model_selection import RandomizedSearchCV\n",
    "from sklearn.linear_model import LinearRegression\n",
    "from sklearn.metrics import accuracy_score, confusion_matrix, classification_report\n",
    "import yfinance as yf"
   ]
  },
  {
   "cell_type": "code",
   "execution_count": 220,
   "id": "5e81c04f",
   "metadata": {},
   "outputs": [
    {
     "name": "stdout",
     "output_type": "stream",
     "text": [
      "[*********************100%***********************]  1 of 1 completed\n"
     ]
    },
    {
     "data": {
      "text/html": [
       "<div>\n",
       "<style scoped>\n",
       "    .dataframe tbody tr th:only-of-type {\n",
       "        vertical-align: middle;\n",
       "    }\n",
       "\n",
       "    .dataframe tbody tr th {\n",
       "        vertical-align: top;\n",
       "    }\n",
       "\n",
       "    .dataframe thead th {\n",
       "        text-align: right;\n",
       "    }\n",
       "</style>\n",
       "<table border=\"1\" class=\"dataframe\">\n",
       "  <thead>\n",
       "    <tr style=\"text-align: right;\">\n",
       "      <th></th>\n",
       "      <th>Open</th>\n",
       "      <th>High</th>\n",
       "      <th>Low</th>\n",
       "      <th>Close</th>\n",
       "      <th>Adj Close</th>\n",
       "      <th>Volume</th>\n",
       "    </tr>\n",
       "    <tr>\n",
       "      <th>Date</th>\n",
       "      <th></th>\n",
       "      <th></th>\n",
       "      <th></th>\n",
       "      <th></th>\n",
       "      <th></th>\n",
       "      <th></th>\n",
       "    </tr>\n",
       "  </thead>\n",
       "  <tbody>\n",
       "    <tr>\n",
       "      <th>2021-10-29</th>\n",
       "      <td>2596.149902</td>\n",
       "      <td>2596.149902</td>\n",
       "      <td>2501.699951</td>\n",
       "      <td>2536.250000</td>\n",
       "      <td>2528.636963</td>\n",
       "      <td>6568539</td>\n",
       "    </tr>\n",
       "    <tr>\n",
       "      <th>2021-11-01</th>\n",
       "      <td>2536.250000</td>\n",
       "      <td>2556.000000</td>\n",
       "      <td>2494.100098</td>\n",
       "      <td>2537.800049</td>\n",
       "      <td>2530.182373</td>\n",
       "      <td>7144532</td>\n",
       "    </tr>\n",
       "    <tr>\n",
       "      <th>2021-11-02</th>\n",
       "      <td>2545.000000</td>\n",
       "      <td>2548.000000</td>\n",
       "      <td>2495.250000</td>\n",
       "      <td>2500.800049</td>\n",
       "      <td>2493.293457</td>\n",
       "      <td>4877652</td>\n",
       "    </tr>\n",
       "    <tr>\n",
       "      <th>2021-11-03</th>\n",
       "      <td>2506.050049</td>\n",
       "      <td>2520.000000</td>\n",
       "      <td>2461.000000</td>\n",
       "      <td>2483.600098</td>\n",
       "      <td>2476.145020</td>\n",
       "      <td>5533120</td>\n",
       "    </tr>\n",
       "    <tr>\n",
       "      <th>2021-11-04</th>\n",
       "      <td>2492.949951</td>\n",
       "      <td>2504.899902</td>\n",
       "      <td>2490.000000</td>\n",
       "      <td>2498.850098</td>\n",
       "      <td>2491.349365</td>\n",
       "      <td>787160</td>\n",
       "    </tr>\n",
       "    <tr>\n",
       "      <th>...</th>\n",
       "      <td>...</td>\n",
       "      <td>...</td>\n",
       "      <td>...</td>\n",
       "      <td>...</td>\n",
       "      <td>...</td>\n",
       "      <td>...</td>\n",
       "    </tr>\n",
       "    <tr>\n",
       "      <th>2023-04-13</th>\n",
       "      <td>2353.000000</td>\n",
       "      <td>2365.800049</td>\n",
       "      <td>2342.000000</td>\n",
       "      <td>2355.500000</td>\n",
       "      <td>2355.500000</td>\n",
       "      <td>5712541</td>\n",
       "    </tr>\n",
       "    <tr>\n",
       "      <th>2023-04-17</th>\n",
       "      <td>2424.949951</td>\n",
       "      <td>2424.949951</td>\n",
       "      <td>2349.050049</td>\n",
       "      <td>2367.449951</td>\n",
       "      <td>2367.449951</td>\n",
       "      <td>8274452</td>\n",
       "    </tr>\n",
       "    <tr>\n",
       "      <th>2023-04-18</th>\n",
       "      <td>2377.000000</td>\n",
       "      <td>2377.000000</td>\n",
       "      <td>2326.000000</td>\n",
       "      <td>2340.350098</td>\n",
       "      <td>2340.350098</td>\n",
       "      <td>4802172</td>\n",
       "    </tr>\n",
       "    <tr>\n",
       "      <th>2023-04-19</th>\n",
       "      <td>2339.050049</td>\n",
       "      <td>2357.899902</td>\n",
       "      <td>2332.199951</td>\n",
       "      <td>2352.000000</td>\n",
       "      <td>2352.000000</td>\n",
       "      <td>5664207</td>\n",
       "    </tr>\n",
       "    <tr>\n",
       "      <th>2023-04-20</th>\n",
       "      <td>2354.100098</td>\n",
       "      <td>2359.000000</td>\n",
       "      <td>2332.100098</td>\n",
       "      <td>2344.500000</td>\n",
       "      <td>2344.500000</td>\n",
       "      <td>2897796</td>\n",
       "    </tr>\n",
       "  </tbody>\n",
       "</table>\n",
       "<p>365 rows × 6 columns</p>\n",
       "</div>"
      ],
      "text/plain": [
       "                   Open         High          Low        Close    Adj Close   \n",
       "Date                                                                          \n",
       "2021-10-29  2596.149902  2596.149902  2501.699951  2536.250000  2528.636963  \\\n",
       "2021-11-01  2536.250000  2556.000000  2494.100098  2537.800049  2530.182373   \n",
       "2021-11-02  2545.000000  2548.000000  2495.250000  2500.800049  2493.293457   \n",
       "2021-11-03  2506.050049  2520.000000  2461.000000  2483.600098  2476.145020   \n",
       "2021-11-04  2492.949951  2504.899902  2490.000000  2498.850098  2491.349365   \n",
       "...                 ...          ...          ...          ...          ...   \n",
       "2023-04-13  2353.000000  2365.800049  2342.000000  2355.500000  2355.500000   \n",
       "2023-04-17  2424.949951  2424.949951  2349.050049  2367.449951  2367.449951   \n",
       "2023-04-18  2377.000000  2377.000000  2326.000000  2340.350098  2340.350098   \n",
       "2023-04-19  2339.050049  2357.899902  2332.199951  2352.000000  2352.000000   \n",
       "2023-04-20  2354.100098  2359.000000  2332.100098  2344.500000  2344.500000   \n",
       "\n",
       "             Volume  \n",
       "Date                 \n",
       "2021-10-29  6568539  \n",
       "2021-11-01  7144532  \n",
       "2021-11-02  4877652  \n",
       "2021-11-03  5533120  \n",
       "2021-11-04   787160  \n",
       "...             ...  \n",
       "2023-04-13  5712541  \n",
       "2023-04-17  8274452  \n",
       "2023-04-18  4802172  \n",
       "2023-04-19  5664207  \n",
       "2023-04-20  2897796  \n",
       "\n",
       "[365 rows x 6 columns]"
      ]
     },
     "execution_count": 220,
     "metadata": {},
     "output_type": "execute_result"
    }
   ],
   "source": [
    "data = yf.download(\"RELIANCE.NS\", period='365d') #internet needed\n",
    "data"
   ]
  },
  {
   "cell_type": "code",
   "execution_count": 221,
   "id": "490aa21f",
   "metadata": {},
   "outputs": [],
   "source": [
    "data.reset_index(level=0,inplace=True)\n"
   ]
  },
  {
   "cell_type": "code",
   "execution_count": 222,
   "id": "f4482022",
   "metadata": {},
   "outputs": [
    {
     "data": {
      "text/plain": [
       "0     2021-10-29\n",
       "1     2021-11-01\n",
       "2     2021-11-02\n",
       "3     2021-11-03\n",
       "4     2021-11-04\n",
       "         ...    \n",
       "360   2023-04-13\n",
       "361   2023-04-17\n",
       "362   2023-04-18\n",
       "363   2023-04-19\n",
       "364   2023-04-20\n",
       "Name: Date, Length: 365, dtype: datetime64[ns]"
      ]
     },
     "execution_count": 222,
     "metadata": {},
     "output_type": "execute_result"
    }
   ],
   "source": [
    "data['Date']"
   ]
  },
  {
   "cell_type": "code",
   "execution_count": 223,
   "id": "6e27dd17",
   "metadata": {},
   "outputs": [
    {
     "name": "stdout",
     "output_type": "stream",
     "text": [
      "Dataframe Shape:  (365, 7)\n",
      "Null Value Present:  False\n"
     ]
    }
   ],
   "source": [
    "print(\"Dataframe Shape: \", data. shape)\n",
    "print(\"Null Value Present: \", data.isnull().values.any())"
   ]
  },
  {
   "cell_type": "code",
   "execution_count": 224,
   "id": "857e6b7d",
   "metadata": {},
   "outputs": [
    {
     "data": {
      "text/html": [
       "<div>\n",
       "<style scoped>\n",
       "    .dataframe tbody tr th:only-of-type {\n",
       "        vertical-align: middle;\n",
       "    }\n",
       "\n",
       "    .dataframe tbody tr th {\n",
       "        vertical-align: top;\n",
       "    }\n",
       "\n",
       "    .dataframe thead th {\n",
       "        text-align: right;\n",
       "    }\n",
       "</style>\n",
       "<table border=\"1\" class=\"dataframe\">\n",
       "  <thead>\n",
       "    <tr style=\"text-align: right;\">\n",
       "      <th></th>\n",
       "      <th>Date</th>\n",
       "      <th>Open</th>\n",
       "      <th>High</th>\n",
       "      <th>Low</th>\n",
       "      <th>Close</th>\n",
       "      <th>Adj Close</th>\n",
       "      <th>Volume</th>\n",
       "    </tr>\n",
       "  </thead>\n",
       "  <tbody>\n",
       "    <tr>\n",
       "      <th>0</th>\n",
       "      <td>2021-10-29</td>\n",
       "      <td>2596.149902</td>\n",
       "      <td>2596.149902</td>\n",
       "      <td>2501.699951</td>\n",
       "      <td>2536.250000</td>\n",
       "      <td>2528.636963</td>\n",
       "      <td>6568539</td>\n",
       "    </tr>\n",
       "    <tr>\n",
       "      <th>1</th>\n",
       "      <td>2021-11-01</td>\n",
       "      <td>2536.250000</td>\n",
       "      <td>2556.000000</td>\n",
       "      <td>2494.100098</td>\n",
       "      <td>2537.800049</td>\n",
       "      <td>2530.182373</td>\n",
       "      <td>7144532</td>\n",
       "    </tr>\n",
       "    <tr>\n",
       "      <th>2</th>\n",
       "      <td>2021-11-02</td>\n",
       "      <td>2545.000000</td>\n",
       "      <td>2548.000000</td>\n",
       "      <td>2495.250000</td>\n",
       "      <td>2500.800049</td>\n",
       "      <td>2493.293457</td>\n",
       "      <td>4877652</td>\n",
       "    </tr>\n",
       "    <tr>\n",
       "      <th>3</th>\n",
       "      <td>2021-11-03</td>\n",
       "      <td>2506.050049</td>\n",
       "      <td>2520.000000</td>\n",
       "      <td>2461.000000</td>\n",
       "      <td>2483.600098</td>\n",
       "      <td>2476.145020</td>\n",
       "      <td>5533120</td>\n",
       "    </tr>\n",
       "    <tr>\n",
       "      <th>4</th>\n",
       "      <td>2021-11-04</td>\n",
       "      <td>2492.949951</td>\n",
       "      <td>2504.899902</td>\n",
       "      <td>2490.000000</td>\n",
       "      <td>2498.850098</td>\n",
       "      <td>2491.349365</td>\n",
       "      <td>787160</td>\n",
       "    </tr>\n",
       "    <tr>\n",
       "      <th>...</th>\n",
       "      <td>...</td>\n",
       "      <td>...</td>\n",
       "      <td>...</td>\n",
       "      <td>...</td>\n",
       "      <td>...</td>\n",
       "      <td>...</td>\n",
       "      <td>...</td>\n",
       "    </tr>\n",
       "    <tr>\n",
       "      <th>360</th>\n",
       "      <td>2023-04-13</td>\n",
       "      <td>2353.000000</td>\n",
       "      <td>2365.800049</td>\n",
       "      <td>2342.000000</td>\n",
       "      <td>2355.500000</td>\n",
       "      <td>2355.500000</td>\n",
       "      <td>5712541</td>\n",
       "    </tr>\n",
       "    <tr>\n",
       "      <th>361</th>\n",
       "      <td>2023-04-17</td>\n",
       "      <td>2424.949951</td>\n",
       "      <td>2424.949951</td>\n",
       "      <td>2349.050049</td>\n",
       "      <td>2367.449951</td>\n",
       "      <td>2367.449951</td>\n",
       "      <td>8274452</td>\n",
       "    </tr>\n",
       "    <tr>\n",
       "      <th>362</th>\n",
       "      <td>2023-04-18</td>\n",
       "      <td>2377.000000</td>\n",
       "      <td>2377.000000</td>\n",
       "      <td>2326.000000</td>\n",
       "      <td>2340.350098</td>\n",
       "      <td>2340.350098</td>\n",
       "      <td>4802172</td>\n",
       "    </tr>\n",
       "    <tr>\n",
       "      <th>363</th>\n",
       "      <td>2023-04-19</td>\n",
       "      <td>2339.050049</td>\n",
       "      <td>2357.899902</td>\n",
       "      <td>2332.199951</td>\n",
       "      <td>2352.000000</td>\n",
       "      <td>2352.000000</td>\n",
       "      <td>5664207</td>\n",
       "    </tr>\n",
       "    <tr>\n",
       "      <th>364</th>\n",
       "      <td>2023-04-20</td>\n",
       "      <td>2354.100098</td>\n",
       "      <td>2359.000000</td>\n",
       "      <td>2332.100098</td>\n",
       "      <td>2344.500000</td>\n",
       "      <td>2344.500000</td>\n",
       "      <td>2897796</td>\n",
       "    </tr>\n",
       "  </tbody>\n",
       "</table>\n",
       "<p>365 rows × 7 columns</p>\n",
       "</div>"
      ],
      "text/plain": [
       "          Date         Open         High          Low        Close   \n",
       "0   2021-10-29  2596.149902  2596.149902  2501.699951  2536.250000  \\\n",
       "1   2021-11-01  2536.250000  2556.000000  2494.100098  2537.800049   \n",
       "2   2021-11-02  2545.000000  2548.000000  2495.250000  2500.800049   \n",
       "3   2021-11-03  2506.050049  2520.000000  2461.000000  2483.600098   \n",
       "4   2021-11-04  2492.949951  2504.899902  2490.000000  2498.850098   \n",
       "..         ...          ...          ...          ...          ...   \n",
       "360 2023-04-13  2353.000000  2365.800049  2342.000000  2355.500000   \n",
       "361 2023-04-17  2424.949951  2424.949951  2349.050049  2367.449951   \n",
       "362 2023-04-18  2377.000000  2377.000000  2326.000000  2340.350098   \n",
       "363 2023-04-19  2339.050049  2357.899902  2332.199951  2352.000000   \n",
       "364 2023-04-20  2354.100098  2359.000000  2332.100098  2344.500000   \n",
       "\n",
       "       Adj Close   Volume  \n",
       "0    2528.636963  6568539  \n",
       "1    2530.182373  7144532  \n",
       "2    2493.293457  4877652  \n",
       "3    2476.145020  5533120  \n",
       "4    2491.349365   787160  \n",
       "..           ...      ...  \n",
       "360  2355.500000  5712541  \n",
       "361  2367.449951  8274452  \n",
       "362  2340.350098  4802172  \n",
       "363  2352.000000  5664207  \n",
       "364  2344.500000  2897796  \n",
       "\n",
       "[365 rows x 7 columns]"
      ]
     },
     "execution_count": 224,
     "metadata": {},
     "output_type": "execute_result"
    }
   ],
   "source": [
    "data"
   ]
  },
  {
   "cell_type": "markdown",
   "id": "c4dfaa9b",
   "metadata": {},
   "source": [
    "# Create a new column with the rolling mean of the Close price"
   ]
  },
  {
   "cell_type": "code",
   "execution_count": 225,
   "id": "dcc366eb",
   "metadata": {},
   "outputs": [],
   "source": [
    "data['Rolling Mean'] = data['Close'].rolling(window=20).mean()"
   ]
  },
  {
   "cell_type": "markdown",
   "id": "1570e7d7",
   "metadata": {},
   "source": [
    "# The Adjusted Close Value is the final output value that will be forecasted using the Machine Learning model. This figure indicates the stock’s closing price on that particular day of stock market trading."
   ]
  },
  {
   "cell_type": "code",
   "execution_count": 226,
   "id": "b7617bd7",
   "metadata": {},
   "outputs": [
    {
     "data": {
      "image/png": "[encoded data removed]",
      "text/plain": [
       "<Figure size 432x288 with 1 Axes>"
      ]
     },
     "metadata": {
      "needs_background": "light"
     },
     "output_type": "display_data"
    }
   ],
   "source": [
    "data.set_index(\"Date\", inplace=True)\n",
    "data['Adj Close'].plot()\n",
    "plt.ylabel(\"Adjusted Close Prices\")\n",
    "plt.show()"
   ]
  },
  {
   "cell_type": "code",
   "execution_count": 227,
   "id": "eacc1549",
   "metadata": {},
   "outputs": [
    {
     "data": {
      "text/plain": [
       "<AxesSubplot:xlabel='Date'>"
      ]
     },
     "execution_count": 227,
     "metadata": {},
     "output_type": "execute_result"
    },
    {
     "data": {
      "image/png": "[encoded data removed]",
      "text/plain": [
       "<Figure size 432x288 with 1 Axes>"
      ]
     },
     "metadata": {
      "needs_background": "light"
     },
     "output_type": "display_data"
    }
   ],
   "source": [
    "data['Volume'].plot()"
   ]
  },
  {
   "cell_type": "code",
   "execution_count": 228,
   "id": "47ef0bf1",
   "metadata": {},
   "outputs": [
    {
     "data": {
      "text/html": [
       "<div>\n",
       "<style scoped>\n",
       "    .dataframe tbody tr th:only-of-type {\n",
       "        vertical-align: middle;\n",
       "    }\n",
       "\n",
       "    .dataframe tbody tr th {\n",
       "        vertical-align: top;\n",
       "    }\n",
       "\n",
       "    .dataframe thead th {\n",
       "        text-align: right;\n",
       "    }\n",
       "</style>\n",
       "<table border=\"1\" class=\"dataframe\">\n",
       "  <thead>\n",
       "    <tr style=\"text-align: right;\">\n",
       "      <th></th>\n",
       "      <th>Open</th>\n",
       "      <th>High</th>\n",
       "      <th>Low</th>\n",
       "      <th>Close</th>\n",
       "      <th>Adj Close</th>\n",
       "      <th>Volume</th>\n",
       "      <th>Rolling Mean</th>\n",
       "    </tr>\n",
       "  </thead>\n",
       "  <tbody>\n",
       "    <tr>\n",
       "      <th>Open</th>\n",
       "      <td>1.000000</td>\n",
       "      <td>0.982417</td>\n",
       "      <td>0.980713</td>\n",
       "      <td>0.958752</td>\n",
       "      <td>0.958587</td>\n",
       "      <td>-0.092148</td>\n",
       "      <td>0.754146</td>\n",
       "    </tr>\n",
       "    <tr>\n",
       "      <th>High</th>\n",
       "      <td>0.982417</td>\n",
       "      <td>1.000000</td>\n",
       "      <td>0.980032</td>\n",
       "      <td>0.985382</td>\n",
       "      <td>0.984293</td>\n",
       "      <td>-0.035992</td>\n",
       "      <td>0.760075</td>\n",
       "    </tr>\n",
       "    <tr>\n",
       "      <th>Low</th>\n",
       "      <td>0.980713</td>\n",
       "      <td>0.980032</td>\n",
       "      <td>1.000000</td>\n",
       "      <td>0.983565</td>\n",
       "      <td>0.984027</td>\n",
       "      <td>-0.162404</td>\n",
       "      <td>0.735170</td>\n",
       "    </tr>\n",
       "    <tr>\n",
       "      <th>Close</th>\n",
       "      <td>0.958752</td>\n",
       "      <td>0.985382</td>\n",
       "      <td>0.983565</td>\n",
       "      <td>1.000000</td>\n",
       "      <td>0.999578</td>\n",
       "      <td>-0.098528</td>\n",
       "      <td>0.727333</td>\n",
       "    </tr>\n",
       "    <tr>\n",
       "      <th>Adj Close</th>\n",
       "      <td>0.958587</td>\n",
       "      <td>0.984293</td>\n",
       "      <td>0.984027</td>\n",
       "      <td>0.999578</td>\n",
       "      <td>1.000000</td>\n",
       "      <td>-0.104646</td>\n",
       "      <td>0.728342</td>\n",
       "    </tr>\n",
       "    <tr>\n",
       "      <th>Volume</th>\n",
       "      <td>-0.092148</td>\n",
       "      <td>-0.035992</td>\n",
       "      <td>-0.162404</td>\n",
       "      <td>-0.098528</td>\n",
       "      <td>-0.104646</td>\n",
       "      <td>1.000000</td>\n",
       "      <td>0.016833</td>\n",
       "    </tr>\n",
       "    <tr>\n",
       "      <th>Rolling Mean</th>\n",
       "      <td>0.754146</td>\n",
       "      <td>0.760075</td>\n",
       "      <td>0.735170</td>\n",
       "      <td>0.727333</td>\n",
       "      <td>0.728342</td>\n",
       "      <td>0.016833</td>\n",
       "      <td>1.000000</td>\n",
       "    </tr>\n",
       "  </tbody>\n",
       "</table>\n",
       "</div>"
      ],
      "text/plain": [
       "                  Open      High       Low     Close  Adj Close    Volume   \n",
       "Open          1.000000  0.982417  0.980713  0.958752   0.958587 -0.092148  \\\n",
       "High          0.982417  1.000000  0.980032  0.985382   0.984293 -0.035992   \n",
       "Low           0.980713  0.980032  1.000000  0.983565   0.984027 -0.162404   \n",
       "Close         0.958752  0.985382  0.983565  1.000000   0.999578 -0.098528   \n",
       "Adj Close     0.958587  0.984293  0.984027  0.999578   1.000000 -0.104646   \n",
       "Volume       -0.092148 -0.035992 -0.162404 -0.098528  -0.104646  1.000000   \n",
       "Rolling Mean  0.754146  0.760075  0.735170  0.727333   0.728342  0.016833   \n",
       "\n",
       "              Rolling Mean  \n",
       "Open              0.754146  \n",
       "High              0.760075  \n",
       "Low               0.735170  \n",
       "Close             0.727333  \n",
       "Adj Close         0.728342  \n",
       "Volume            0.016833  \n",
       "Rolling Mean      1.000000  "
      ]
     },
     "execution_count": 228,
     "metadata": {},
     "output_type": "execute_result"
    }
   ],
   "source": [
    "data.corr()"
   ]
  },
  {
   "cell_type": "markdown",
   "id": "d8319111",
   "metadata": {},
   "source": [
    "# Create a scatter plot of the Close price and the Rolling Mean"
   ]
  },
  {
   "cell_type": "code",
   "execution_count": 229,
   "id": "4aa7253d",
   "metadata": {},
   "outputs": [
    {
     "data": {
      "image/png": "[encoded data removed]",
      "text/plain": [
       "<Figure size 432x288 with 1 Axes>"
      ]
     },
     "metadata": {
      "needs_background": "light"
     },
     "output_type": "display_data"
    }
   ],
   "source": [
    "plt.scatter(data.index, data['Close'], color='blue', label='Close Price')\n",
    "plt.plot(data['Rolling Mean'], color='red', label='Rolling Mean')\n",
    "plt.xlabel('Date')\n",
    "plt.ylabel('Price')\n",
    "plt.title('Stock Price Prediction')\n",
    "plt.legend()\n",
    "plt.show()\n"
   ]
  },
  {
   "cell_type": "markdown",
   "id": "97935fed",
   "metadata": {},
   "source": [
    "scatter plot of the Close price and the Rolling Mean, which is a simple moving average of the Close price over a 20-day period. This plot can help identify trends and patterns in the data."
   ]
  },
  {
   "cell_type": "markdown",
   "id": "b43e9650",
   "metadata": {},
   "source": [
    "# Feature selection"
   ]
  },
  {
   "cell_type": "code",
   "execution_count": 230,
   "id": "89019794",
   "metadata": {},
   "outputs": [],
   "source": [
    "from sklearn.ensemble import RandomForestRegressor\n",
    "model = RandomForestRegressor(n_estimators=100,min_samples_split=100,random_state=1)\n",
    "x = data.iloc[:, 0:5].values\n",
    "y = data.iloc[:, 4].values"
   ]
  },
  {
   "cell_type": "markdown",
   "id": "5074f6ca",
   "metadata": {},
   "source": [
    "# Divide into train and test datasets."
   ]
  },
  {
   "cell_type": "code",
   "execution_count": 231,
   "id": "fdd9ffef",
   "metadata": {},
   "outputs": [],
   "source": [
    "x_train, x_test, y_train, y_test = train_test_split(x, y, test_size=0.26,  random_state=0)"
   ]
  },
  {
   "cell_type": "markdown",
   "id": "7fbe265a",
   "metadata": {},
   "source": [
    "# Scaling the features"
   ]
  },
  {
   "cell_type": "code",
   "execution_count": 232,
   "id": "e094fd37",
   "metadata": {},
   "outputs": [],
   "source": [
    "from sklearn.preprocessing import StandardScaler\n",
    "scale = StandardScaler()\n",
    "x_train = scale.fit_transform(x_train)\n",
    "x_test = scale.transform(x_test)"
   ]
  },
  {
   "cell_type": "code",
   "execution_count": 240,
   "id": "d815bda1",
   "metadata": {},
   "outputs": [
    {
     "data": {
      "text/plain": [
       "array([[ 0.00869725,  0.03381243,  0.08055992, -0.00852017, -0.03350954],\n",
       "       [ 1.34757082,  1.70611491,  1.51004367,  1.81184317,  1.79004354],\n",
       "       [-0.70289316, -0.80460415, -0.84757031, -0.97821213, -1.00489949],\n",
       "       ...,\n",
       "       [ 2.07308213,  2.12135931,  2.1574298 ,  2.29745282,  2.27650302],\n",
       "       [-0.24500058, -0.40785663, -0.36495823, -0.49184065, -0.51767642],\n",
       "       [-0.50179152, -0.67965297, -0.57151253, -0.68333824, -0.70950871]])"
      ]
     },
     "execution_count": 240,
     "metadata": {},
     "output_type": "execute_result"
    }
   ],
   "source": [
    "x_train"
   ]
  },
  {
   "cell_type": "code",
   "execution_count": 241,
   "id": "b3b7eb3f",
   "metadata": {},
   "outputs": [
    {
     "data": {
      "text/plain": [
       "array([[ 1.33480746,  1.2606709 ,  1.45186323,  1.3941359 ,  1.37160431],\n",
       "       [ 0.98326671,  0.81484904,  0.98096692,  0.84978243,  0.8859477 ],\n",
       "       [-0.5180351 , -0.35500734, -0.40400448, -0.17445868, -0.19973762],\n",
       "       [-0.45460923, -0.575464  , -0.38604282, -0.47963293, -0.50544606],\n",
       "       [-0.54819959, -0.53242995, -0.55550319, -0.61848871, -0.64454651],\n",
       "       [-2.04137962, -1.76683832, -1.86433439, -1.61183055, -1.58740145],\n",
       "       [-0.64101573, -0.77780164, -0.74761152, -0.67685254, -0.70301268],\n",
       "       [-1.16929464, -1.02770402, -1.20835732, -0.92480663, -0.89710202],\n",
       "       [-0.98907625, -0.70985256, -0.87568247, -0.55096816, -0.52148121],\n",
       "       [ 0.17112549,  0.15763002,  0.24455418,  0.31076728,  0.28633821],\n",
       "       [ 1.75673454,  2.1666587 ,  1.96766463,  2.24824198,  2.22720728],\n",
       "       [ 1.09464533,  0.95791924,  0.72052764,  0.80972831,  0.78617342],\n",
       "       [ 0.48051262,  0.45660673,  0.63072126,  0.64150063,  0.67667288],\n",
       "       [ 0.62205761,  0.6227045 ,  0.28516191,  0.16199483,  0.19488095],\n",
       "       [ 0.53852271,  0.3773328 ,  0.51045956,  0.34471754,  0.37847483],\n",
       "       [ 0.37222713,  0.55475541,  0.58777038,  0.67774007,  0.7130851 ],\n",
       "       [ 0.57332876,  0.40036036,  0.45501311,  0.28673555,  0.3202164 ],\n",
       "       [ 0.98326671,  0.91903801,  1.0211838 ,  1.07561027,  1.05252014],\n",
       "       [ 0.30609525,  0.2240695 ,  0.30429419,  0.16695503,  0.1998648 ],\n",
       "       [ 1.17663367,  1.1225074 ,  1.13832257,  0.99969854,  0.97647669],\n",
       "       [ 0.85216429,  0.73330977,  0.65883532,  0.71817603,  0.69445977],\n",
       "       [ 1.37000063,  1.21537151,  1.44054019,  1.37582619,  1.41449946],\n",
       "       [-0.06091486, -0.02469929, -0.78587609, -0.78633456, -0.81268541],\n",
       "       [ 0.6355933 ,  0.49058128,  0.71896617,  0.58046578,  0.61534703],\n",
       "       [-0.078705  , -0.21420247, -0.22439171, -0.28126967, -0.25049688],\n",
       "       [ 0.98558749,  0.86014843,  1.04890702,  0.93866369,  0.97525272],\n",
       "       [-1.08962707, -1.14170637, -1.17712032, -1.25019794, -1.27736232],\n",
       "       [-0.98056735, -1.06469778, -1.10957106, -1.20861832, -1.18226683],\n",
       "       [ 0.70868563,  0.63856002,  0.70100452,  0.53926613,  0.51523775],\n",
       "       [ 0.98326671,  0.82843923,  0.61900738,  0.6937606 ,  0.67000279],\n",
       "       [ 2.15893782,  2.24593264,  2.36086117,  2.28486327,  2.26389275],\n",
       "       [ 1.19983771,  0.98132467,  1.18439638,  1.08018862,  1.05710722],\n",
       "       [-1.15885207, -0.80611376, -1.14588331, -0.72567968, -0.75192476],\n",
       "       [-0.84211737, -0.9665491 , -0.76283918, -0.88284517, -0.90936607],\n",
       "       [ 0.42636988,  0.43018209,  0.63462588,  0.54384449,  0.51982297],\n",
       "       [ 0.2825041 ,  0.09043666,  0.0051995 ,  0.16008749,  0.1353948 ],\n",
       "       [-1.03122987, -0.90124322, -1.17712032, -0.82181032, -0.84822363],\n",
       "       [-0.43991409, -0.22665907, -0.31536872, -0.4147834 , -0.44048386],\n",
       "       [ 0.71255297,  0.52757504,  0.75371696,  0.58046578,  0.61534703],\n",
       "       [-0.5791383 , -0.66002249, -0.84835009, -0.7802307 , -0.80657116],\n",
       "       [ 0.78989976,  1.10967294,  0.95519601,  0.89021653,  0.92657458],\n",
       "       [-0.19240439, -0.18890957, -0.04009263, -0.01653137,  0.0155036 ],\n",
       "       [ 0.71255297,  0.65592331,  0.89233116,  0.76891051,  0.80469021],\n",
       "       [ 0.78951264,  0.79257721,  0.97042367,  0.90089875,  0.93730772],\n",
       "       [-0.11505761, -0.24251459, -0.52231387, -0.57652725, -0.60251038],\n",
       "       [-0.07715844, -0.20287762,  0.00715181, -0.06802953, -0.03624008],\n",
       "       [ 0.81503746,  0.67932873,  0.90014041,  0.79675691,  0.83266937],\n",
       "       [ 0.98326671,  0.76992751,  0.84547566,  0.67392539,  0.70925223],\n",
       "       [-0.47085281, -0.33990754, -0.27788584, -0.22672051, -0.19568766],\n",
       "       [-0.58687298, -0.76270185, -0.62969107, -0.74322757, -0.76950391],\n",
       "       [-0.82278067, -0.5981137 , -0.66951901, -0.43538416, -0.46112107],\n",
       "       [ 0.12626398,  0.11082102,  0.20004184,  0.16390217,  0.19679738],\n",
       "       [-0.53273023, -0.70985256, -0.81711309, -0.93892168, -0.91128437],\n",
       "       [-0.00599789,  0.19575738,  0.20589877,  0.35654342,  0.3321941 ],\n",
       "       [-0.74234077, -0.63133435, -0.63828201, -0.47391092, -0.49971548],\n",
       "       [ 0.55592574,  0.4101756 ,  0.4686793 ,  0.31153096,  0.28710366],\n",
       "       [ 0.29681401,  0.24898453,  0.41128055,  0.41452727,  0.39028035],\n",
       "       [ 0.43913134,  0.46793158,  0.41010992,  0.43779718,  0.41359009],\n",
       "       [-1.90950297, -1.06469778, -1.7304065 , -0.96791175, -0.99457995],\n",
       "       [-0.48554794, -0.40106245, -0.35714898, -0.28584803, -0.31132303],\n",
       "       [-0.29295521, -0.43994369, -0.35636729, -0.50786304, -0.47817058],\n",
       "       [ 2.00269769,  1.86466277,  2.03248179,  1.84884629,  1.88977477],\n",
       "       [ 0.26162085,  0.3773328 ,  0.37418661,  0.52591476,  0.50186203],\n",
       "       [ 0.77056306,  0.8152269 ,  0.94699592,  0.87648518,  0.85304644],\n",
       "       [-0.45538345, -0.46221553, -0.33879647, -0.35756323, -0.32715419],\n",
       "       [-1.53746419, -1.58337543, -1.78311895, -1.8609283 , -1.83768681],\n",
       "       [ 0.36449245,  0.25653443,  0.41596686,  0.31000546,  0.28557463],\n",
       "       [ 2.52981526,  2.58945301,  2.57991104,  2.58546103,  2.56501598],\n",
       "       [ 0.47084428,  0.33958331,  0.27540034,  0.13910676,  0.17188376],\n",
       "       [ 0.5965328 ,  0.64459846,  0.56668578,  0.78684024,  0.76324548],\n",
       "       [-1.01846841, -0.6351093 , -0.9373767 , -0.48077846, -0.50659517],\n",
       "       [-0.48554794, -0.49883327, -0.5289525 , -0.52731641, -0.55321464],\n",
       "       [ 0.38769648,  0.39092299,  0.51592565,  0.47975864,  0.45562622],\n",
       "       [ 0.31421704,  0.21425426,  0.37692061,  0.25240345,  0.28572061],\n",
       "       [-0.9488563 , -0.76723252, -0.77728705, -0.71995766, -0.7461923 ],\n",
       "       [-0.21947576,  0.1497041 , -0.10959611,  0.0986708 ,  0.13125501],\n",
       "       [-0.06091486, -0.24930876, -0.14434689, -0.29233372, -0.26161369],\n",
       "       [-1.32166742, -1.36367449, -1.27083133, -1.33564822, -1.30990237],\n",
       "       [ 0.12471742, -0.0681112 , -0.13848995, -0.3007249 , -0.27004487],\n",
       "       [-0.81117865, -0.8551881 , -0.73706827, -0.86567912, -0.83769261],\n",
       "       [-0.38577135, -0.25685866, -0.23922853, -0.10655815, -0.13171923],\n",
       "       [ 1.22613486,  1.28936089,  1.24921355,  1.15724401,  1.13429791],\n",
       "       [ 1.16889899,  1.69441219,  1.39212322,  1.85647565,  1.83475406],\n",
       "       [-0.23881246, -0.38520693, -0.30990263, -0.32780949, -0.35335729],\n",
       "       [-0.44803588, -0.62718154, -0.83312244, -0.86606096, -0.83807627],\n",
       "       [-1.19017789, -1.23834544, -1.41139784, -1.49891571, -1.47394826],\n",
       "       [-0.54471936, -0.704568  , -0.5914265 , -0.75085693, -0.72232299],\n",
       "       [ 1.28453206,  1.1693164 ,  1.30309852,  1.15266751,  1.19027684],\n",
       "       [ 1.77607124,  1.79256087,  1.89347674,  1.91026298,  1.95148428],\n",
       "       [ 0.68161426,  0.83636699,  0.79979078,  0.64569715,  0.6808894 ],\n",
       "       [ 0.42636988,  0.315424  ,  0.5135825 ,  0.48433514,  0.51875807],\n",
       "       [-0.10190903, -0.08925129,  0.04580913,  0.0143679 , -0.01057972],\n",
       "       [ 0.77172251,  0.73180016,  0.74161224,  0.606023  ,  0.64102611],\n",
       "       [-1.3294021 , -0.80045134, -1.13026481, -0.78747821, -0.75911887],\n",
       "       [ 1.29265385,  1.16025689,  1.1652641 ,  1.0138136 ,  1.05076091]])"
      ]
     },
     "execution_count": 241,
     "metadata": {},
     "output_type": "execute_result"
    }
   ],
   "source": [
    "x_test"
   ]
  },
  {
   "cell_type": "markdown",
   "id": "71745bda",
   "metadata": {},
   "source": [
    "# Hyperparemater tuning"
   ]
  },
  {
   "cell_type": "markdown",
   "id": "5ffa054f",
   "metadata": {},
   "source": [
    "# For a random forest regression model, the best parameters to consider are:\n",
    "\n",
    "- n_estimators — number of trees in the forest\n",
    "- max_depth — maximum depth in a tree\n",
    "- min_samples_split — minimum number of data points before the sample is split\n",
    "- min_samples_leaf — minimum number of leaf nodes that are required to be sampled\n",
    "- bootstrap — sampling for data points, true or false\n",
    "- random_state — generated random numbers for the random forest."
   ]
  },
  {
   "cell_type": "code",
   "execution_count": 242,
   "id": "08c6ae0e",
   "metadata": {},
   "outputs": [
    {
     "name": "stdout",
     "output_type": "stream",
     "text": [
      "Fitting 3 folds for each of 200 candidates, totalling 600 fits\n",
      "{'random_state': 30, 'n_estimators': 500, 'min_samples_split': 2, 'min_samples_leaf': 1, 'max_depth': 11, 'bootstrap': False}\n"
     ]
    }
   ],
   "source": [
    "grid_rf = {\n",
    "'n_estimators': [20, 50, 100, 500, 1000],  \n",
    "'max_depth': np.arange(1, 15, 1),  \n",
    "'min_samples_split': [2, 10, 9], \n",
    "'min_samples_leaf': np.arange(1, 15, 2, dtype=int),  \n",
    "'bootstrap': [True, False], \n",
    "'random_state': [1, 2, 30, 42]\n",
    "}\n",
    "rscv = RandomizedSearchCV(estimator=model, param_distributions=grid_rf, cv=3, n_jobs=-1, verbose=2, n_iter=200)\n",
    "rscv_fit = rscv.fit(x_train, y_train)\n",
    "best_parameters = rscv_fit.best_params_\n",
    "print(best_parameters)"
   ]
  },
  {
   "cell_type": "markdown",
   "id": "7fd2552f",
   "metadata": {},
   "source": [
    "# Apply model and predict"
   ]
  },
  {
   "cell_type": "code",
   "execution_count": 243,
   "id": "7b4b2cd0",
   "metadata": {},
   "outputs": [
    {
     "name": "stdout",
     "output_type": "stream",
     "text": [
      "[2656.19746745 2591.05499837 2449.25451823 2411.49601725 2392.18969076\n",
      " 2257.60699707 2384.92692627 2358.40065755 2407.15949056 2513.54679525\n",
      " 2765.22361654 2579.51341797 2562.48479655 2499.65131348 2526.41836426\n",
      " 2568.37926107 2517.64355469 2613.23907552 2499.44700195 2605.16290365\n",
      " 2566.31743327 2657.73221354 2370.30153592 2556.85164876 2441.41530762\n",
      " 2603.09478825 2315.63537109 2323.30125    2547.51590658 2564.8253125\n",
      " 2770.12189128 2615.56529188 2379.70077311 2358.98213379 2546.62738118\n",
      " 2494.78008464 2366.00410482 2420.3207959  2557.53166178 2370.59500271\n",
      " 2598.68408366 2477.47396322 2581.36664876 2599.05281261 2398.62357747\n",
      " 2470.96676758 2584.04681315 2568.27525065 2449.15683105 2377.05816569\n",
      " 2416.38125488 2499.73203613 2357.68391493 2523.32610677 2412.23105143\n",
      " 2514.05247396 2528.2671875  2530.47632148 2341.60649089 2434.88074382\n",
      " 2413.59388265 2720.89071777 2544.76012695 2588.10546061 2431.51451362\n",
      " 2241.89306641 2513.6691276  2780.88486328 2497.56103516 2576.51615397\n",
      " 2411.09042643 2405.6601237  2538.57509115 2510.21527018 2379.90552246\n",
      " 2490.0528776  2441.42491374 2305.76827474 2441.32344076 2366.83430827\n",
      " 2458.15804199 2626.25814779 2713.46389648 2430.71486192 2366.76725911\n",
      " 2280.78706868 2382.28783366 2631.62790039 2718.83801432 2563.1339209\n",
      " 2544.88286133 2475.15020508 2557.93079753 2377.6634375  2612.68193522]\n",
      "(95,)\n"
     ]
    }
   ],
   "source": [
    "model = RandomForestRegressor(n_estimators=150, random_state=42, min_samples_split=2, min_samples_leaf=1, max_depth=10, bootstrap=True)\n",
    "model.fit(x_train, y_train)\n",
    "predict = model.predict(x_test)\n",
    "print(predict)\n",
    "print(predict.shape)"
   ]
  },
  {
   "cell_type": "markdown",
   "id": "bd8cfef0",
   "metadata": {},
   "source": [
    "# Statistical metrics and performance evaluation"
   ]
  },
  {
   "cell_type": "code",
   "execution_count": 244,
   "id": "535d0021",
   "metadata": {},
   "outputs": [
    {
     "name": "stdout",
     "output_type": "stream",
     "text": [
      "Mean Absolute Error: 1.8811\n",
      "Mean Squared Error: 16.2178\n",
      "Root Mean Squared Error: 4.0271\n",
      "(R^2) Score: 0.9988\n",
      "Train Score : 99.99% and Test Score : 99.88% using Random Tree Regressor.\n",
      "Accuracy: 99.93 %.\n"
     ]
    }
   ],
   "source": [
    "print(\"Mean Absolute Error:\", round(metrics.mean_absolute_error(y_test, predict), 4))\n",
    "print(\"Mean Squared Error:\", round(metrics.mean_squared_error(y_test, predict), 4))\n",
    "print(\"Root Mean Squared Error:\", round(np.sqrt(metrics.mean_squared_error(y_test, predict)), 4))\n",
    "print(\"(R^2) Score:\", round(metrics.r2_score(y_test, predict), 4))\n",
    "print(f'Train Score : {model.score(x_train, y_train) * 100:.2f}% and Test Score : {model.score(x_test, y_test) * 100:.2f}% using Random Tree Regressor.')\n",
    "errors = abs(predict - y_test)\n",
    "mape = 100 * (errors / y_test)\n",
    "accuracy = 100 - np.mean(mape)\n",
    "print('Accuracy:', round(accuracy, 2), '%.') "
   ]
  },
  {
   "cell_type": "code",
   "execution_count": 245,
   "id": "5b063a49",
   "metadata": {},
   "outputs": [],
   "source": [
    "from pandas import read_csv\n",
    "predictions = pd.DataFrame({\"Predictions\": predict}, index=pd.date_range(start=data.index[-1], periods=len(predict), freq=\"D\"))\n",
    "predictions.to_csv(\"Predicted-price-data.csv\")\n",
    "#colllects future days from predicted values\n",
    "oneyear_df = pd.DataFrame(predictions[:252])\n",
    "oneyear_df.to_csv(\"one-year-predictions.csv\")\n",
    "onemonth_df = pd.DataFrame(predictions[:21])\n",
    "onemonth_df.to_csv(\"one-month-predictions.csv\")\n"
   ]
  },
  {
   "cell_type": "code",
   "execution_count": 246,
   "id": "852cdf9e",
   "metadata": {},
   "outputs": [
    {
     "name": "stdout",
     "output_type": "stream",
     "text": [
      "Buy price and date\n",
      "    Unnamed: 0  Predictions\n",
      "65  2023-06-24  2241.893066\n",
      "Sell price and date\n",
      "    Unnamed: 0  Predictions\n",
      "67  2023-06-26  2780.884863\n"
     ]
    },
    {
     "data": {
      "image/png": "[encoded data removed]",
      "text/plain": [
       "<Figure size 720x360 with 1 Axes>"
      ]
     },
     "metadata": {
      "needs_background": "light"
     },
     "output_type": "display_data"
    }
   ],
   "source": [
    "oneyear_df_pred = pd.read_csv(\"one-year-predictions.csv\")\n",
    "buy_price = min(oneyear_df_pred[\"Predictions\"])\n",
    "sell_price = max(oneyear_df_pred[\"Predictions\"])\n",
    "oneyear_buy = oneyear_df_pred.loc[oneyear_df_pred[\"Predictions\"] == buy_price]\n",
    "oneyear_sell = oneyear_df_pred.loc[oneyear_df_pred[\"Predictions\"] == sell_price]\n",
    "print(\"Buy price and date\")\n",
    "print(oneyear_buy)\n",
    "print(\"Sell price and date\")\n",
    "print(oneyear_sell)\n",
    "oneyear_df_pred[\"Predictions\"].plot(figsize=(10, 5), title=\"Forecast for the next 1 year\", color=\"blue\")\n",
    "plt.xlabel(\"Date\")\n",
    "plt.ylabel(\"Price\")\n",
    "plt.legend()\n",
    "plt.show()"
   ]
  },
  {
   "cell_type": "code",
   "execution_count": 247,
   "id": "6d3d430b",
   "metadata": {
    "scrolled": true
   },
   "outputs": [
    {
     "name": "stdout",
     "output_type": "stream",
     "text": [
      "Buy price and date\n",
      "   Unnamed: 0  Predictions\n",
      "5  2023-04-25  2257.606997\n",
      "Sell price and date\n",
      "    Unnamed: 0  Predictions\n",
      "10  2023-04-30  2765.223617\n"
     ]
    },
    {
     "data": {
      "image/png": "[encoded data removed]",
      "text/plain": [
       "<Figure size 720x360 with 1 Axes>"
      ]
     },
     "metadata": {
      "needs_background": "light"
     },
     "output_type": "display_data"
    }
   ],
   "source": [
    "onemonth_df_pred = pd.read_csv(\"one-month-predictions.csv\")\n",
    "\n",
    "buy_price = min(onemonth_df_pred[\"Predictions\"])\n",
    "sell_price = max(onemonth_df_pred[\"Predictions\"])\n",
    "onemonth_buy = onemonth_df_pred.loc[onemonth_df_pred[\"Predictions\"] == buy_price]\n",
    "onemonth_sell = onemonth_df_pred.loc[onemonth_df_pred[\"Predictions\"] == sell_price]\n",
    "print(\"Buy price and date\")\n",
    "print(onemonth_buy)\n",
    "print(\"Sell price and date\")\n",
    "print(onemonth_sell)\n",
    "onemonth_df_pred[\"Predictions\"].plot(figsize=(10, 5), title=\"Forecast for the next 1 month\", color=\"blue\")\n",
    "\n",
    "plt.ylabel(\"Price\")\n",
    "plt.legend()\n",
    "plt.show()"
   ]
  },
  {
   "cell_type": "markdown",
   "id": "2ee6f377",
   "metadata": {},
   "source": [
    "# Conclusion\n",
    "There are different approaches to solving these problems. Their performance can differ from mathematical analysis for prediction to sentiment analysis, financial news articles, and expert reviews. However, because of how fickle the stock market is, there are no perfect or accurate prediction systems. The algorithm is also a great choice for anyone who needs to develop a model quickly. It provides a pretty good indicator of the importance it assigns to your features. Overall, random forest is mostly fast, simple, and flexible, but not without some limitations."
   ]
  },
  {
   "cell_type": "code",
   "execution_count": null,
   "id": "8aa2cf9d",
   "metadata": {},
   "outputs": [],
   "source": []
  }
 ],
 "metadata": {
  "kernelspec": {
   "display_name": "Python 3 (ipykernel)",
   "language": "python",
   "name": "python3"
  },
  "language_info": {
   "codemirror_mode": {
    "name": "ipython",
    "version": 3
   },
   "file_extension": ".py",
   "mimetype": "text/x-python",
   "name": "python",
   "nbconvert_exporter": "python",
   "pygments_lexer": "ipython3",
   "version": "3.9.12"
  }
 },
 "nbformat": 4,
 "nbformat_minor": 5
}
